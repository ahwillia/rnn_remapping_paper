{
 "cells": [
  {
   "cell_type": "code",
   "execution_count": 1,
   "metadata": {},
   "outputs": [],
   "source": [
    "import os\n",
    "import sys\n",
    "sys.path.append(\"../data/neural_data/\")\n",
    "sys.path.append(\"../utils/\")\n",
    "sys.path.append(\"../fig1_1d2map/\")\n",
    "from pathlib import Path\n",
    "\n",
    "import numpy as np\n",
    "import itertools\n",
    "import matplotlib.pyplot as plt\n",
    "\n",
    "import basic_analysis as basic\n",
    "import fig6_analysis as analysis\n",
    "import analysis_neuro as spk\n",
    "import fig6_plots"
   ]
  },
  {
   "cell_type": "code",
   "execution_count": 2,
   "metadata": {},
   "outputs": [
    {
     "name": "stdout",
     "output_type": "stream",
     "text": [
      "save folder exists\n"
     ]
    }
   ],
   "source": [
    "# file paths\n",
    "data_folder = f\"../data/neural_data/\"\n",
    "save_folder = f\"../figures/fig6_plots/\"\n",
    "if os.path.isdir(save_folder):\n",
    "    print('save folder exists')\n",
    "else:\n",
    "    os.mkdir(save_folder)\n",
    "    \n",
    "title_size = 10"
   ]
  },
  {
   "cell_type": "code",
   "execution_count": 3,
   "metadata": {},
   "outputs": [],
   "source": [
    "# define the mouse, session, and example cell IDs\n",
    "mice = ['Seattle', 'Toronto', 'Seattle', 'Toronto']\n",
    "sessions = ['1010_1', '1111_1', '1006_1', '1117_1']\n",
    "ex_cells = np.asarray([529, 521, 341, 252])\n",
    "session_maps = np.asarray([3, 3, 4, 4])\n",
    "\n",
    "session_IDs = []\n",
    "for m, s in zip(mice, sessions):\n",
    "    session_IDs.append(f'{m}_{s}')"
   ]
  },
  {
   "cell_type": "code",
   "execution_count": 4,
   "metadata": {},
   "outputs": [
    {
     "name": "stdout",
     "output_type": "stream",
     "text": [
      "loaded data for Seattle_1010_1\n"
     ]
    }
   ],
   "source": [
    "''' load the data - single neuron and similarity '''\n",
    "ex_idx = 0\n",
    "session_ID = session_IDs[ex_idx]\n",
    "c_id = ex_cells[ex_idx]\n",
    "n_maps = session_maps[ex_idx]\n",
    "d = analysis.load_neural_data(data_folder, session_ID)\n",
    "print(f'loaded data for {session_ID}')"
   ]
  },
  {
   "cell_type": "code",
   "execution_count": 5,
   "metadata": {},
   "outputs": [],
   "source": [
    "''' divide by map and filter out unstable trials '''\n",
    "d = analysis.format_neural_data(d, n_maps=n_maps,\n",
    "                                filter_stability=True, unstable_thresh=0.25)"
   ]
  },
  {
   "cell_type": "code",
   "execution_count": 6,
   "metadata": {},
   "outputs": [],
   "source": [
    "''' compute firing rates for each map '''\n",
    "A = d['A']\n",
    "B = d['B']\n",
    "\n",
    "dt = 0.02 # time bin\n",
    "pos_bin = 2 # cm\n",
    "n_cells = B.shape[-1]\n",
    "n_pos_bins = 400 // pos_bin\n",
    "\n",
    "FRs = np.zeros([n_maps, n_pos_bins, n_cells])\n",
    "FRs_sem = np.zeros([n_maps, n_pos_bins, n_cells])\n",
    "for i in range(n_maps):\n",
    "    m_idx = d['idx'][i, :]\n",
    "    FRs[i], binned_pos, FRs_sem[i] = spk.tuning_curve(A[m_idx, 0],\n",
    "                                             B[m_idx, :],\n",
    "                                             dt, b=2, SEM=True)"
   ]
  },
  {
   "cell_type": "code",
   "execution_count": 7,
   "metadata": {},
   "outputs": [],
   "source": [
    "''' save remap index for plotting '''\n",
    "W = d['kmeans']['W']\n",
    "trials = np.arange(0, W.shape[0]-1)\n",
    "\n",
    "# define remaps\n",
    "remap_idx = np.asarray([])\n",
    "for i in range(n_maps):\n",
    "    remaps = np.where(np.abs(np.diff(W[:, i])))[0]\n",
    "    remap_idx = np.append(remap_idx, remaps)\n",
    "remap_idx = np.unique(remap_idx)\n",
    "remap_idx = remap_idx.astype(int)\n",
    "d['remap_idx'] = remap_idx"
   ]
  },
  {
   "cell_type": "code",
   "execution_count": 8,
   "metadata": {},
   "outputs": [
    {
     "data": {
      "image/png": "[encoded data removed]",
      "text/plain": [
       "<Figure size 144x86.4 with 4 Axes>"
      ]
     },
     "metadata": {},
     "output_type": "display_data"
    }
   ],
   "source": [
    "''' Figure 6A: 3 map examples for a single cell and the whole network '''\n",
    "f, gs = fig6_plots.plot_b(d=d, cell_ID=c_id,\n",
    "                          all_FR=FRs,\n",
    "                          all_FR_sem=FRs_sem,\n",
    "                          binned_pos=binned_pos)\n",
    "\n",
    "f.savefig(f'{save_folder}{session_ID}_examples.png',\n",
    "          dpi=600, bbox_inches='tight')\n",
    "plt.show()"
   ]
  },
  {
   "cell_type": "code",
   "execution_count": 9,
   "metadata": {},
   "outputs": [
    {
     "name": "stdout",
     "output_type": "stream",
     "text": [
      "loaded data for Toronto_1117_1\n"
     ]
    }
   ],
   "source": [
    "''' load the data - manifolds '''\n",
    "ex_idx = 3\n",
    "session_ID = session_IDs[ex_idx]\n",
    "c_id = ex_cells[ex_idx]\n",
    "n_maps = session_maps[ex_idx]\n",
    "d = analysis.load_neural_data(data_folder, session_ID)\n",
    "print(f'loaded data for {session_ID}')"
   ]
  },
  {
   "cell_type": "code",
   "execution_count": 10,
   "metadata": {},
   "outputs": [],
   "source": [
    "''' divide by map and filter out unstable trials '''\n",
    "d = analysis.format_neural_data(d, n_maps=n_maps,\n",
    "                                filter_stability=True, unstable_thresh=0.25)"
   ]
  },
  {
   "cell_type": "code",
   "execution_count": 11,
   "metadata": {},
   "outputs": [],
   "source": [
    "# define the map pairs\n",
    "m_ids = np.arange(n_maps)\n",
    "m_pairs = list(itertools.combinations(m_ids,2))\n",
    "for i, p in enumerate(m_pairs):\n",
    "    m_pairs[i] = np.asarray(p)"
   ]
  },
  {
   "cell_type": "code",
   "execution_count": 12,
   "metadata": {},
   "outputs": [
    {
     "data": {
      "image/png": "[encoded data removed]",
      "text/plain": [
       "<Figure size 108x72 with 1 Axes>"
      ]
     },
     "metadata": {},
     "output_type": "display_data"
    },
    {
     "data": {
      "image/png": "[encoded data removed]",
      "text/plain": [
       "<Figure size 108x72 with 1 Axes>"
      ]
     },
     "metadata": {},
     "output_type": "display_data"
    },
    {
     "data": {
      "image/png": "[encoded data removed]",
      "text/plain": [
       "<Figure size 108x72 with 1 Axes>"
      ]
     },
     "metadata": {},
     "output_type": "display_data"
    },
    {
     "data": {
      "image/png": "[encoded data removed]",
      "text/plain": [
       "<Figure size 108x72 with 1 Axes>"
      ]
     },
     "metadata": {},
     "output_type": "display_data"
    },
    {
     "data": {
      "image/png": "[encoded data removed]",
      "text/plain": [
       "<Figure size 108x72 with 1 Axes>"
      ]
     },
     "metadata": {},
     "output_type": "display_data"
    },
    {
     "data": {
      "image/png": "[encoded data removed]",
      "text/plain": [
       "<Figure size 108x72 with 1 Axes>"
      ]
     },
     "metadata": {},
     "output_type": "display_data"
    }
   ],
   "source": [
    "''' Figure 6B: example aligned manifolds for all pairs '''\n",
    "# get the centers for each position bin\n",
    "pos = d['A'][:, 0]\n",
    "bin_size = 5\n",
    "edges = np.arange(0, np.max(pos) + bin_size, bin_size)\n",
    "binned_pos = (edges[:-1] + edges[1:])/2\n",
    "\n",
    "# data params\n",
    "Y = d['Y'].copy()\n",
    "map_idx = d['idx']\n",
    "W = d['kmeans']['W'].copy()\n",
    "W_bool = W.astype(bool)\n",
    "\n",
    "# plots\n",
    "for m0_id, m1_id in m_pairs:\n",
    "    map_idx = W_bool[:, m0_id] | W_bool[:, m1_id]\n",
    "    f, ax = fig6_plots.plot_c(Y[map_idx], binned_pos)\n",
    "    ax.set_title(f'maps {m0_id+1} & {m1_id+1}',\n",
    "                 fontsize=title_size, pad=-2)\n",
    "    plt.show()\n",
    "    f.savefig(f'{save_folder}{session_ID}_manifolds_{m0_id+1}{m1_id+1}.png', \n",
    "              dpi=600, bbox_inches='tight')"
   ]
  },
  {
   "cell_type": "code",
   "execution_count": 13,
   "metadata": {},
   "outputs": [
    {
     "name": "stdout",
     "output_type": "stream",
     "text": [
      "mean misalignment = 0.69\n",
      "sem misalignment = 0.055\n"
     ]
    },
    {
     "data": {
      "image/png": "[encoded data removed]",
      "text/plain": [
       "<Figure size 57.6x72 with 1 Axes>"
      ]
     },
     "metadata": {},
     "output_type": "display_data"
    }
   ],
   "source": [
    "''' Figure 6C: summary of ring alignment '''\n",
    "f, ax = fig6_plots.plot_d(data_folder, session_IDs, session_maps)\n",
    "f.savefig(f'{save_folder}alignment_sort.png', dpi=600, bbox_inches='tight')\n",
    "plt.show()"
   ]
  },
  {
   "cell_type": "code",
   "execution_count": 4,
   "metadata": {},
   "outputs": [
    {
     "data": {
      "image/png": "[encoded data removed]",
      "text/plain": [
       "<Figure size 57.6x72 with 1 Axes>"
      ]
     },
     "metadata": {},
     "output_type": "display_data"
    }
   ],
   "source": [
    "''' Possible Figure 6D: angle between remapping dimensions '''\n",
    "f, ax = fig6_plots.plot_e(data_folder, session_IDs, session_maps)\n",
    "f.savefig(f'{save_folder}remap_angles.png', dpi=600, bbox_inches='tight')\n",
    "plt.show()"
   ]
  },
  {
   "cell_type": "code",
   "execution_count": 42,
   "metadata": {},
   "outputs": [],
   "source": [
    "num_maps = session_maps\n",
    "from dim_alignment import remapping_dim, cosine_sim"
   ]
  },
  {
   "cell_type": "code",
   "execution_count": 49,
   "metadata": {},
   "outputs": [],
   "source": [
    "# data params\n",
    "n_sessions = len(session_IDs)\n",
    "n_maps = np.max(num_maps)\n",
    "n_pairs = (np.math.factorial(n_maps)) // \\\n",
    "            (np.math.factorial(2)*np.math.factorial(n_maps-2))\n",
    "dt = 0.02 # time bin\n",
    "pos_bin = 2 # cm\n",
    "n_pos_bins = 400 // pos_bin\n",
    "\n",
    "all_angles = []\n",
    "for i, s_id in enumerate(session_IDs):\n",
    "    # define the map pairs\n",
    "    n_maps = num_maps[i]\n",
    "    m_ids = np.arange(n_maps)\n",
    "    m_pairs = list(itertools.combinations(m_ids,2))\n",
    "\n",
    "    # load + format the data\n",
    "    d = analysis.load_neural_data(data_folder, s_id)\n",
    "    d = analysis.format_neural_data(d, n_maps=n_maps)\n",
    "\n",
    "    # compute firing rates for each map\n",
    "    A = d['A']\n",
    "    B = d['B']\n",
    "    n_cells = B.shape[-1]\n",
    "    map_idx = d['idx']\n",
    "    FRs = np.zeros([n_maps, n_pos_bins, n_cells])\n",
    "    for j in range(n_maps):\n",
    "        m_idx = map_idx[j, :]\n",
    "        FRs[j], _, _ = spk.tuning_curve(A[m_idx, 0],\n",
    "                                        B[m_idx, :],\n",
    "                                        dt, b=2, SEM=True)\n",
    "\n",
    "    # find the remapping dimensions\n",
    "    remap_dims = {}\n",
    "    for m0_id, m1_id in m_pairs:\n",
    "        remap_dims[f'[{m0_id} {m1_id}]'] = remapping_dim(FRs[m0_id], FRs[m1_id])\n",
    "\n",
    "    # calculate the angles between all dimensions sharing a node\n",
    "    all_pairs = list(itertools.combinations(np.asarray(m_pairs),2))\n",
    "    adj_pairs = []\n",
    "    for i, (j, k) in enumerate(all_pairs):\n",
    "        m_diff = np.setdiff1d(j, k)\n",
    "        if m_diff.shape[0] == 1:\n",
    "            adj_pairs.append((str(j), str(k)))\n",
    "    n_angles = len(adj_pairs)\n",
    "    angles = np.zeros(n_angles)\n",
    "    for j, (p0, p1) in enumerate(adj_pairs):\n",
    "        angles[j] = cosine_sim(remap_dims[p0], \\\n",
    "                                remap_dims[p1])\n",
    "    all_angles.append(angles)"
   ]
  },
  {
   "cell_type": "code",
   "execution_count": 51,
   "metadata": {},
   "outputs": [],
   "source": [
    "all_angles_deg = []\n",
    "for angles in all_angles:\n",
    "    all_angles_deg.append(np.rad2deg(np.arccos(np.abs(angles))))"
   ]
  },
  {
   "cell_type": "code",
   "execution_count": 54,
   "metadata": {},
   "outputs": [
    {
     "data": {
      "text/plain": [
       "3"
      ]
     },
     "execution_count": 54,
     "metadata": {},
     "output_type": "execute_result"
    }
   ],
   "source": [
    "all_angles = all_angles_deg"
   ]
  },
  {
   "cell_type": "code",
   "execution_count": 63,
   "metadata": {},
   "outputs": [],
   "source": [
    "# session colors\n",
    "c1 = 'xkcd:scarlet'\n",
    "c2 = 'xkcd:green blue'\n",
    "c3 = 'k'\n",
    "c4 = 'xkcd:saffron'\n",
    "all_session_colors = [c2, c1, c3, c4]\n",
    "\n",
    "# font sizes\n",
    "title_size = 10\n",
    "axis_label = 9\n",
    "tick_label = 7"
   ]
  },
  {
   "cell_type": "code",
   "execution_count": 74,
   "metadata": {},
   "outputs": [
    {
     "data": {
      "image/png": "[encoded data removed]",
      "text/plain": [
       "<Figure size 72x72 with 1 Axes>"
      ]
     },
     "metadata": {},
     "output_type": "display_data"
    }
   ],
   "source": [
    "# data params\n",
    "n_sessions = len(session_IDs)\n",
    "n_maps = np.max(num_maps)\n",
    "n_pairs = (np.math.factorial(n_maps)) // \\\n",
    "            (np.math.factorial(2)*np.math.factorial(n_maps-2))\n",
    "dt = 0.02 # time bin\n",
    "pos_bin = 2 # cm\n",
    "n_pos_bins = 400 // pos_bin\n",
    "\n",
    "# fig params \n",
    "f, ax = plt.subplots(1, 1, figsize=(1, 1))\n",
    "DOT_LW = 0.5\n",
    "DOT_SIZE = 5\n",
    "THRESH_LW = 1.5\n",
    "n_maps = np.max(num_maps)\n",
    "\n",
    "# plot the angles b/w remap dims by session\n",
    "for i in range(n_sessions):\n",
    "    angles = all_angles[i]\n",
    "    n_angles = angles.shape[0]\n",
    "    JIT = np.random.randn(n_angles) * 0.03 # jitter points\n",
    "    ax.scatter(np.full(n_angles, i+1)+JIT, angles, \n",
    "               facecolors='none', edgecolors=all_session_colors[i], \n",
    "               s=DOT_SIZE, lw=DOT_LW, alpha=1, zorder=0)\n",
    "\n",
    "# plot the expected angles\n",
    "ax.scatter(np.arange(n_sessions) + 1, \n",
    "           np.rad2deg(np.arccos(1/(num_maps-1))),\n",
    "           marker='_',\n",
    "           lw=THRESH_LW, color=\"k\")\n",
    "\n",
    "# ticks and lims\n",
    "ax.spines['right'].set_visible(False)\n",
    "ax.spines['top'].set_visible(False)\n",
    "ax.spines['left'].set_bounds(0, 90)\n",
    "ax.spines['bottom'].set_bounds(1, 4)\n",
    "ax.set_xlim([0.6, 4.5])\n",
    "ax.set_xticks([1, 2, 3, 4])\n",
    "ax.set_ylim([0, 90])\n",
    "ax.set_yticks(np.arange(0, 95, 30))\n",
    "ax.tick_params(which='major', labelsize=tick_label, pad=0.5)\n",
    "\n",
    "# labels\n",
    "ax.set_ylabel('angle between\\nremap dims', fontsize=axis_label, labelpad=1)\n",
    "ax.set_xlabel('session num', fontsize=axis_label, labelpad=1)\n",
    "\n",
    "f.savefig(f'{save_folder}remap_angles.png', dpi=600, bbox_inches='tight')\n",
    "plt.show()"
   ]
  },
  {
   "cell_type": "code",
   "execution_count": 73,
   "metadata": {},
   "outputs": [
    {
     "data": {
      "text/plain": [
       "70.52877936550931"
      ]
     },
     "execution_count": 73,
     "metadata": {},
     "output_type": "execute_result"
    }
   ],
   "source": [
    "np.rad2deg(np.arccos(1/3))"
   ]
  },
  {
   "cell_type": "code",
   "execution_count": null,
   "metadata": {},
   "outputs": [],
   "source": [
    "session_avg = int(np.mean(avg_angle))\n",
    "session_sem = stats.sem(avg_angle)\n",
    "print(f'angle between remapping dims (mean, sem) = {session_avg} deg., {session_sem:.2} deg.')"
   ]
  },
  {
   "cell_type": "code",
   "execution_count": null,
   "metadata": {},
   "outputs": [],
   "source": [
    "'''\n",
    "TODO:\n",
    "X complete pairwise comparison for 4-map sessions (all pairs)\n",
    "- angle between remapping dimensions\n",
    "- transition probability matrix\n",
    "- combine maps 2 & 3 for Toronto_1117_1?\n",
    "X for misalignment plot:\n",
    "    - combine all pairs?\n",
    "    - color by mouse\n",
    "'''"
   ]
  },
  {
   "cell_type": "code",
   "execution_count": 65,
   "metadata": {},
   "outputs": [
    {
     "data": {
      "text/plain": [
       "array([0, 1, 3, 2])"
      ]
     },
     "execution_count": 65,
     "metadata": {},
     "output_type": "execute_result"
    }
   ],
   "source": [
    "best = np.nanargmin(alignment_scores, axis=1)\n",
    "adj_scores = alignment_scores.copy()\n",
    "for i, s_id in enumerate(session_IDs):\n",
    "    # define the map pairs\n",
    "    n_maps = num_maps[i]\n",
    "    m_ids = np.arange(n_maps)\n",
    "    m_pairs = list(itertools.combinations(m_ids,2))\n",
    "\n",
    "    # find the best pair\n",
    "    b_pair = m_pairs[best[i]]\n",
    "\n",
    "    # worst pair must contain one of the best maps\n",
    "    j, k = b_pair\n",
    "    idx = np.zeros(n_pairs)\n",
    "    for o, p in enumerate(m_pairs):\n",
    "        if (j in p) | (k in p):\n",
    "            continue\n",
    "        else:\n",
    "            idx[o] = True\n",
    "    adj_scores[i, idx.astype(bool)] = np.nan\n",
    "worst = np.nanargmax(adj_scores, axis=1)\n",
    "\n",
    "# redefine maps\n",
    "# for i, s_id in enumerate(session_IDs):\n",
    "i = 1\n",
    "# define the map pairs\n",
    "n_maps = num_maps[i]\n",
    "m_ids = np.arange(n_maps)\n",
    "m_pairs = list(itertools.combinations(m_ids,2))\n",
    "\n",
    "# find the best and worst pairs\n",
    "b_pair = np.asarray(m_pairs[best[i]])\n",
    "w_pair = np.asarray(m_pairs[worst[i]])\n",
    "\n",
    "# redefine the maps\n",
    "new_m_ids = np.zeros(n_maps)\n",
    "new_m_ids.fill(np.nan)\n",
    "new_m_ids[0] = np.intersect1d(b_pair, w_pair)[0]\n",
    "new_m_ids[1] = b_pair[b_pair != m_0][0]\n",
    "new_m_ids[-1] = w_pair[w_pair != m_0][0]\n",
    "if n_maps > 3:\n",
    "    new_m_ids[2] = np.setdiff1d(m_ids, \n",
    "                                new_m_ids[~np.isnan(new_m_ids)].astype(int))[0]\n",
    "new_m_ids.astype(int)"
   ]
  },
  {
   "cell_type": "code",
   "execution_count": 66,
   "metadata": {},
   "outputs": [
    {
     "data": {
      "text/plain": [
       "array([0, 1, 2, 3])"
      ]
     },
     "execution_count": 66,
     "metadata": {},
     "output_type": "execute_result"
    }
   ],
   "source": [
    "m_ids"
   ]
  },
  {
   "cell_type": "code",
   "execution_count": 64,
   "metadata": {},
   "outputs": [
    {
     "data": {
      "text/plain": [
       "array([0., 1., 2., 3.])"
      ]
     },
     "execution_count": 64,
     "metadata": {},
     "output_type": "execute_result"
    }
   ],
   "source": [
    "new_m_ids = np.zeros(n_maps)\n",
    "new_m_ids.fill(np.nan)\n",
    "new_m_ids[0] = np.intersect1d(b_pair, w_pair)[0]\n",
    "new_m_ids[1] = b_pair[b_pair != m_0][0]\n",
    "new_m_ids[-1] = w_pair[w_pair != m_0][0]\n",
    "if n_maps > 3:\n",
    "    new_m_ids[2] = np.setdiff1d(m_ids, \n",
    "                                new_m_ids[~np.isnan(new_m_ids)].astype(int))[0]\n",
    "new_m_ids.astype(int)"
   ]
  },
  {
   "cell_type": "code",
   "execution_count": 63,
   "metadata": {},
   "outputs": [
    {
     "data": {
      "text/plain": [
       "array([2])"
      ]
     },
     "execution_count": 63,
     "metadata": {},
     "output_type": "execute_result"
    }
   ],
   "source": [
    "np.setdiff1d(m_ids, new_m_ids[~np.isnan(new_m_ids)].astype(int))[0]"
   ]
  },
  {
   "cell_type": "code",
   "execution_count": 28,
   "metadata": {},
   "outputs": [
    {
     "name": "stdout",
     "output_type": "stream",
     "text": [
      "best pair: (0, 1)\n",
      "[(0, 1), (0, 2), (0, 3), (1, 2), (1, 3), (2, 3)]\n",
      "[1. 1. 1. 1. 1. 0.]\n"
     ]
    }
   ],
   "source": [
    "print(f'best pair: ({j}, {k})')\n",
    "print(m_pairs)\n",
    "print(idx)"
   ]
  },
  {
   "cell_type": "code",
   "execution_count": 17,
   "metadata": {},
   "outputs": [
    {
     "name": "stdout",
     "output_type": "stream",
     "text": [
      "Seattle_1010_1: best pair is (0, 2), worst pair is (0, 1)\n",
      "Seattle_1006_1: best pair is (0, 1), worst pair is (0, 2)\n",
      "Toronto_1111_1: best pair is (0, 1), worst pair is (0, 2)\n",
      "Toronto_1117_1: best pair is (0, 1), worst pair is (0, 3)\n"
     ]
    }
   ],
   "source": [
    "best = np.nanargmin(alignment_scores, axis=1)\n",
    "for i, s_id in enumerate(session_IDs):\n",
    "    # define the map pairs\n",
    "    n_maps = num_maps[i]\n",
    "    m_ids = np.arange(n_maps)\n",
    "    m_pairs = list(itertools.combinations(m_ids,2))\n",
    "    \n",
    "    b_pair = m_pairs[best[i]]\n",
    "    w_pair = m_pairs[worst[i]]\n",
    "    print(f'{s_id}: best pair is {m_pairs[b_idx]}, worst pair is {m_pairs[w_idx]}')"
   ]
  },
  {
   "cell_type": "code",
   "execution_count": null,
   "metadata": {},
   "outputs": [],
   "source": [
    "# define 1:2 as most aligned, last:1 as least aligned\n",
    "sort_alignment = np.sort(alignment_scores, axis=1)\n",
    "flat_alignment = alignment_scores.ravel()\n",
    "flat_alignment = flat_alignment[~np.isnan(flat_alignment)]"
   ]
  },
  {
   "cell_type": "code",
   "execution_count": null,
   "metadata": {},
   "outputs": [],
   "source": []
  }
 ],
 "metadata": {
  "kernelspec": {
   "display_name": "Python 3",
   "language": "python",
   "name": "python3"
  },
  "language_info": {
   "codemirror_mode": {
    "name": "ipython",
    "version": 3
   },
   "file_extension": ".py",
   "mimetype": "text/x-python",
   "name": "python",
   "nbconvert_exporter": "python",
   "pygments_lexer": "ipython3",
   "version": "3.6.5"
  }
 },
 "nbformat": 4,
 "nbformat_minor": 2
}
