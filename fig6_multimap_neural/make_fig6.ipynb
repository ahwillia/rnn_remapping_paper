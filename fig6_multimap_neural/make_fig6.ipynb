{
 "cells": [
  {
   "cell_type": "code",
   "execution_count": 1,
   "metadata": {},
   "outputs": [],
   "source": [
    "import os\n",
    "import sys\n",
    "sys.path.append(\"../data/neural_data/\")\n",
    "sys.path.append(\"../utils/\")\n",
    "sys.path.append(\"../fig1_1d2map/\")\n",
    "from pathlib import Path\n",
    "\n",
    "import numpy as np\n",
    "import itertools\n",
    "import matplotlib.pyplot as plt\n",
    "\n",
    "import basic_analysis as basic\n",
    "import fig6_analysis as analysis\n",
    "import analysis_neuro as spk\n",
    "import fig6_plots"
   ]
  },
  {
   "cell_type": "code",
   "execution_count": 2,
   "metadata": {},
   "outputs": [
    {
     "name": "stdout",
     "output_type": "stream",
     "text": [
      "save folder exists\n"
     ]
    }
   ],
   "source": [
    "# file paths\n",
    "data_folder = f\"../data/neural_data/multi_map/\"\n",
    "save_folder = f\"../figures/fig6_plots/\"\n",
    "if os.path.isdir(save_folder):\n",
    "    print('save folder exists')\n",
    "else:\n",
    "    os.mkdir(save_folder)\n",
    "    \n",
    "title_size = 10"
   ]
  },
  {
   "cell_type": "code",
   "execution_count": 3,
   "metadata": {},
   "outputs": [],
   "source": [
    "session_IDs = os.listdir(data_folder)\n",
    "session_IDs = session_IDs[:-1]\n",
    "\n",
    "# sort for plotting\n",
    "session_order = np.asarray([1, 2, 0, 3])\n",
    "sorted_sessions = []\n",
    "for idx in session_order:\n",
    "    sorted_sessions.append(session_IDs[idx])\n",
    "\n",
    "# number of maps per session\n",
    "session_maps = np.asarray([3, 3, 4, 4])"
   ]
  },
  {
   "cell_type": "code",
   "execution_count": 4,
   "metadata": {},
   "outputs": [
    {
     "name": "stdout",
     "output_type": "stream",
     "text": [
      "loaded data for Seattle_1010_1\n"
     ]
    }
   ],
   "source": [
    "''' load the data - single neuron and similarity '''\n",
    "ex_idx = 0\n",
    "session_ID = sorted_sessions[ex_idx]\n",
    "c_id = 529\n",
    "n_maps = session_maps[ex_idx]\n",
    "d = analysis.load_neural_data(data_folder, session_ID)\n",
    "print(f'loaded data for {session_ID}')"
   ]
  },
  {
   "cell_type": "code",
   "execution_count": 5,
   "metadata": {},
   "outputs": [],
   "source": [
    "''' divide by map and filter out unstable trials '''\n",
    "d = analysis.format_neural_data(d, n_maps=n_maps,\n",
    "                                filter_stability=True, unstable_thresh=0.25)"
   ]
  },
  {
   "cell_type": "code",
   "execution_count": 6,
   "metadata": {},
   "outputs": [],
   "source": [
    "''' compute firing rates for each map '''\n",
    "A = d['A']\n",
    "B = d['B']\n",
    "\n",
    "dt = 0.02 # time bin\n",
    "pos_bin = 2 # cm\n",
    "n_cells = B.shape[-1]\n",
    "n_pos_bins = 400 // pos_bin\n",
    "\n",
    "FRs = np.zeros([n_maps, n_pos_bins, n_cells])\n",
    "FRs_sem = np.zeros([n_maps, n_pos_bins, n_cells])\n",
    "for i in range(n_maps):\n",
    "    m_idx = d['idx'][i, :]\n",
    "    FRs[i], binned_pos, FRs_sem[i] = spk.tuning_curve(A[m_idx, 0],\n",
    "                                             B[m_idx, :],\n",
    "                                             dt, b=2, SEM=True)"
   ]
  },
  {
   "cell_type": "code",
   "execution_count": 7,
   "metadata": {},
   "outputs": [],
   "source": [
    "''' save remap index for plotting '''\n",
    "W = d['kmeans']['W']\n",
    "trials = np.arange(0, W.shape[0]-1)\n",
    "\n",
    "# define remaps\n",
    "remap_idx = np.asarray([])\n",
    "for i in range(n_maps):\n",
    "    remaps = np.where(np.abs(np.diff(W[:, i])))[0]\n",
    "    remap_idx = np.append(remap_idx, remaps)\n",
    "remap_idx = np.unique(remap_idx)\n",
    "remap_idx = remap_idx.astype(int)\n",
    "d['remap_idx'] = remap_idx"
   ]
  },
  {
   "cell_type": "code",
   "execution_count": 8,
   "metadata": {},
   "outputs": [
    {
     "name": "stdout",
     "output_type": "stream",
     "text": [
      "across all cells: median waveform correlation = 0.9784, 5th percentile = 0.9354\n"
     ]
    },
    {
     "data": {
      "image/png": "[encoded data removed]",
      "text/plain": [
       "<Figure size 216x86.4 with 5 Axes>"
      ]
     },
     "metadata": {},
     "output_type": "display_data"
    }
   ],
   "source": [
    "''' Figure 6A: 3 map examples for a single cell and the whole network '''\n",
    "f, gs = fig6_plots.plot_b(d=d, cell_ID=c_id,\n",
    "                          all_FR=FRs,\n",
    "                          all_FR_sem=FRs_sem,\n",
    "                          binned_pos=binned_pos)\n",
    "\n",
    "f.savefig(f'{save_folder}{session_ID}_examples.png',\n",
    "          dpi=600, bbox_inches='tight')\n",
    "plt.show()"
   ]
  },
  {
   "cell_type": "code",
   "execution_count": 4,
   "metadata": {},
   "outputs": [
    {
     "name": "stdout",
     "output_type": "stream",
     "text": [
      "loaded data for Toronto_1117_1\n"
     ]
    }
   ],
   "source": [
    "''' load the data - manifolds '''\n",
    "ex_idx = -1\n",
    "session_ID = sorted_sessions[ex_idx]\n",
    "n_maps = session_maps[ex_idx]\n",
    "d = analysis.load_neural_data(data_folder, session_ID)\n",
    "print(f'loaded data for {session_ID}')"
   ]
  },
  {
   "cell_type": "code",
   "execution_count": 5,
   "metadata": {},
   "outputs": [],
   "source": [
    "''' divide by map and filter out unstable trials '''\n",
    "d = analysis.format_neural_data(d, n_maps=n_maps,\n",
    "                                filter_stability=True, unstable_thresh=0.25)"
   ]
  },
  {
   "cell_type": "code",
   "execution_count": 6,
   "metadata": {},
   "outputs": [],
   "source": [
    "# define the map pairs\n",
    "m_ids = np.arange(n_maps)\n",
    "m_pairs = list(itertools.combinations(m_ids,2))\n",
    "for i, p in enumerate(m_pairs):\n",
    "    m_pairs[i] = np.asarray(p)"
   ]
  },
  {
   "cell_type": "code",
   "execution_count": 7,
   "metadata": {},
   "outputs": [
    {
     "data": {
      "image/png": "[encoded data removed]",
      "text/plain": [
       "<Figure size 108x72 with 1 Axes>"
      ]
     },
     "metadata": {},
     "output_type": "display_data"
    },
    {
     "data": {
      "image/png": "[encoded data removed]",
      "text/plain": [
       "<Figure size 108x72 with 1 Axes>"
      ]
     },
     "metadata": {},
     "output_type": "display_data"
    },
    {
     "data": {
      "image/png": "[encoded data removed]",
      "text/plain": [
       "<Figure size 108x72 with 1 Axes>"
      ]
     },
     "metadata": {},
     "output_type": "display_data"
    },
    {
     "data": {
      "image/png": "[encoded data removed]",
      "text/plain": [
       "<Figure size 108x72 with 1 Axes>"
      ]
     },
     "metadata": {},
     "output_type": "display_data"
    },
    {
     "data": {
      "image/png": "[encoded data removed]",
      "text/plain": [
       "<Figure size 108x72 with 1 Axes>"
      ]
     },
     "metadata": {},
     "output_type": "display_data"
    },
    {
     "data": {
      "image/png": "[encoded data removed]",
      "text/plain": [
       "<Figure size 108x72 with 1 Axes>"
      ]
     },
     "metadata": {},
     "output_type": "display_data"
    }
   ],
   "source": [
    "''' Figure 6B: example aligned manifolds for all pairs '''\n",
    "# get the centers for each position bin\n",
    "pos = d['A'][:, 0]\n",
    "bin_size = 5\n",
    "edges = np.arange(0, np.max(pos) + bin_size, bin_size)\n",
    "binned_pos = (edges[:-1] + edges[1:])/2\n",
    "\n",
    "# data params\n",
    "Y = d['Y'].copy()\n",
    "map_idx = d['idx']\n",
    "W = d['kmeans']['W'].copy()\n",
    "W_bool = W.astype(bool)\n",
    "\n",
    "# plots\n",
    "for i, (m0_id, m1_id) in enumerate(m_pairs):\n",
    "    map_idx = W_bool[:, m0_id] | W_bool[:, m1_id]\n",
    "    \n",
    "    if (i == 0) or (i==3): # rotate maps as needed to show separation\n",
    "        f, ax = fig6_plots.plot_c(Y[map_idx], binned_pos, reflect_y=True)\n",
    "    else:\n",
    "        f, ax = fig6_plots.plot_c(Y[map_idx], binned_pos)\n",
    "    ax.set_title(f'maps {m0_id+1} & {m1_id+1}',\n",
    "                 fontsize=title_size, pad=-2)\n",
    "    \n",
    "    plt.show()\n",
    "    f.savefig(f'{save_folder}{session_ID}_manifolds_{m0_id+1}{m1_id+1}.png', \n",
    "              dpi=600, bbox_inches='tight')"
   ]
  },
  {
   "cell_type": "code",
   "execution_count": 16,
   "metadata": {},
   "outputs": [
    {
     "name": "stdout",
     "output_type": "stream",
     "text": [
      "overall mean misalignment = 0.69\n",
      "overall sem misalignment = 0.056\n",
      "Seattle_1006_1 mean misalignment = 1.0\n",
      "Seattle_1010_1 mean misalignment = 0.54\n",
      "Toronto_1111_1 mean misalignment = 0.78\n",
      "Toronto_1117_1 mean misalignment = 0.51\n"
     ]
    },
    {
     "data": {
      "image/png": "[encoded data removed]",
      "text/plain": [
       "<Figure size 57.6x72 with 1 Axes>"
      ]
     },
     "metadata": {},
     "output_type": "display_data"
    }
   ],
   "source": [
    "''' Figure 6C: summary of ring alignment '''\n",
    "f, ax = fig6_plots.plot_d(data_folder, session_IDs, session_maps)\n",
    "f.savefig(f'{save_folder}alignment_sort.png', dpi=600, bbox_inches='tight')\n",
    "plt.show()"
   ]
  },
  {
   "cell_type": "code",
   "execution_count": 17,
   "metadata": {},
   "outputs": [
    {
     "data": {
      "image/png": "[encoded data removed]",
      "text/plain": [
       "<Figure size 57.6x72 with 1 Axes>"
      ]
     },
     "metadata": {},
     "output_type": "display_data"
    }
   ],
   "source": [
    "''' Figure 6D: angle between remapping dimensions '''\n",
    "f, ax = fig6_plots.plot_e(data_folder, session_IDs, session_maps)\n",
    "f.savefig(f'{save_folder}remap_angles.png', dpi=600, bbox_inches='tight')\n",
    "plt.show()"
   ]
  },
  {
   "cell_type": "code",
   "execution_count": null,
   "metadata": {},
   "outputs": [],
   "source": []
  }
 ],
 "metadata": {
  "kernelspec": {
   "display_name": "Python 3",
   "language": "python",
   "name": "python3"
  },
  "language_info": {
   "codemirror_mode": {
    "name": "ipython",
    "version": 3
   },
   "file_extension": ".py",
   "mimetype": "text/x-python",
   "name": "python",
   "nbconvert_exporter": "python",
   "pygments_lexer": "ipython3",
   "version": "3.6.5"
  }
 },
 "nbformat": 4,
 "nbformat_minor": 2
}
