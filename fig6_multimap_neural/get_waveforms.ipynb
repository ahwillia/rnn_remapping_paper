{
 "cells": [
  {
   "cell_type": "code",
   "execution_count": 1,
   "metadata": {},
   "outputs": [],
   "source": [
    "import os\n",
    "import sys\n",
    "sys.path.append(\"../data/neural_data/\")\n",
    "sys.path.append(\"../utils/\")\n",
    "from pathlib import Path\n",
    "\n",
    "import numpy as np\n",
    "import matplotlib.pyplot as plt\n",
    "from matplotlib import gridspec\n",
    "\n",
    "from scipy.spatial.distance import pdist\n",
    "from scipy.spatial.distance import squareform\n",
    "\n",
    "import extract_waveforms as wf\n",
    "import raw_neural_data as raw\n",
    "import basic_analysis as basic\n",
    "import fig6_analysis as analysis\n",
    "import analysis_neuro as spk\n",
    "import fig6_plots"
   ]
  },
  {
   "cell_type": "code",
   "execution_count": 2,
   "metadata": {},
   "outputs": [
    {
     "name": "stdout",
     "output_type": "stream",
     "text": [
      "save folder exists\n"
     ]
    }
   ],
   "source": [
    "# file paths\n",
    "data_folder = f\"../data/neural_data/multi_map/\"\n",
    "save_folder = f\"{data_folder}waveform_info/\"\n",
    "if os.path.isdir(save_folder):\n",
    "    print('save folder exists')\n",
    "else:\n",
    "    os.mkdir(save_folder)\n",
    "session_paths = wf.list_sessions(data_folder)"
   ]
  },
  {
   "cell_type": "code",
   "execution_count": 4,
   "metadata": {},
   "outputs": [],
   "source": [
    "session_IDs = os.listdir(data_folder)\n",
    "session_IDs = session_IDs[:-1]\n",
    "\n",
    "# sort for plotting\n",
    "session_order = np.asarray([1, 2, 0, 3])\n",
    "sorted_sessions = []\n",
    "for idx in session_order:\n",
    "    sorted_sessions.append(session_IDs[idx])\n",
    "\n",
    "# number of maps per session\n",
    "session_maps = np.asarray([3, 3, 4, 4])\n",
    "\n",
    "# example cells\n",
    "ex_cells = np.asarray([\n",
    "    [529, 528, 95], # Seattle_1010_1\n",
    "    [521, 519, 402], # Toronto_1111_1\n",
    "    [341, 313, 249], # Seattle_1006_1\n",
    "    [252, 250, 163] # Toronto_1117_1\n",
    "])"
   ]
  },
  {
   "cell_type": "code",
   "execution_count": 5,
   "metadata": {},
   "outputs": [
    {
     "name": "stdout",
     "output_type": "stream",
     "text": [
      "../data/neural_data/multi_map/Seattle_1010_1/Seattle_1010_1_data.mat\n",
      "dict_keys(['dat_path', 'n_channels_dat', 'dtype', 'offset', 'sample_rate', 'hp_filtered', 'st', 'spikeTemplates', 'clu', 'tempScalingAmps', 'cgs', 'cids', 'xcoords', 'ycoords', 'temps', 'winv', 'pcFeat', 'pcFeatInd', 'spike_depth', 'waveforms'])\n",
      "../data/neural_data/multi_map/Toronto_1111_1/Toronto_1111_1_data.mat\n",
      "dict_keys(['dat_path', 'n_channels_dat', 'dtype', 'offset', 'sample_rate', 'hp_filtered', 'st', 'spikeTemplates', 'clu', 'tempScalingAmps', 'cgs', 'cids', 'xcoords', 'ycoords', 'temps', 'winv', 'pcFeat', 'pcFeatInd', 'spike_depth', 'waveforms'])\n",
      "../data/neural_data/multi_map/Seattle_1006_1/Seattle_1006_1_data.mat\n",
      "dict_keys(['dat_path', 'n_channels_dat', 'dtype', 'offset', 'sample_rate', 'hp_filtered', 'st', 'spikeTemplates', 'clu', 'tempScalingAmps', 'cgs', 'cids', 'xcoords', 'ycoords', 'temps', 'winv', 'pcFeat', 'pcFeatInd', 'spike_depth', 'waveforms'])\n",
      "../data/neural_data/multi_map/Toronto_1117_1/Toronto_1117_1_data.mat\n",
      "dict_keys(['dat_path', 'n_channels_dat', 'dtype', 'offset', 'sample_rate', 'hp_filtered', 'st', 'spikeTemplates', 'clu', 'tempScalingAmps', 'cgs', 'cids', 'xcoords', 'ycoords', 'temps', 'winv', 'pcFeat', 'pcFeatInd', 'spike_depth', 'waveforms'])\n"
     ]
    }
   ],
   "source": [
    "''' define epochs for waveform extraction '''\n",
    "epoch_trials_all = [] # trials\n",
    "epochs_all = [] # samples\n",
    "for i, s_id in enumerate(sorted_sessions):  \n",
    "    # find the epochs\n",
    "    n_maps = session_maps[i]\n",
    "    epoch_trials, epoch_times = analysis.choose_epochs(data_folder, s_id, n_maps)\n",
    "    epoch_trials_all.append(epoch_trials)\n",
    "    epochs_all.append(epoch_times)\n",
    "    \n",
    "    # save for this session\n",
    "    path = session_paths[i]\n",
    "    np.save(f\"{path}/{s_id}_epochs.npy\", epoch_times)"
   ]
  },
  {
   "cell_type": "code",
   "execution_count": 6,
   "metadata": {},
   "outputs": [
    {
     "name": "stdout",
     "output_type": "stream",
     "text": [
      "Seattle_1010_1: n trials per epoch = [49. 41. 42.]\n",
      "Toronto_1111_1: n trials per epoch = [11. 80.  3.]\n",
      "Seattle_1006_1: n trials per epoch = [98. 20. 23. 28.]\n",
      "Toronto_1117_1: n trials per epoch = [46. 25. 13. 33.]\n"
     ]
    }
   ],
   "source": [
    "for i, s_id in enumerate(sorted_sessions):\n",
    "    epochs = epoch_trials_all[i]\n",
    "    n_trials = epochs[:, 1] - epochs[:, 0]\n",
    "    print(f\"{s_id}: n trials per epoch = {n_trials}\")"
   ]
  },
  {
   "cell_type": "code",
   "execution_count": 7,
   "metadata": {},
   "outputs": [
    {
     "data": {
      "text/plain": [
       "'../data/neural_data/multi_map/Seattle_1006_1\\\\Seattle_1006_1_imec0'"
      ]
     },
     "execution_count": 7,
     "metadata": {},
     "output_type": "execute_result"
    }
   ],
   "source": [
    "datapath = session_paths[0]\n",
    "session_id = os.path.split(datapath)[-1]\n",
    "imec_path = os.path.join(datapath, f\"{session_id}_imec0\")\n",
    "imec_path"
   ]
  },
  {
   "cell_type": "code",
   "execution_count": null,
   "metadata": {},
   "outputs": [],
   "source": [
    "''' get the waveforms for each session '''\n",
    "for i in enumerate(session_IDs):\n",
    "    run_session(data_folder, i)"
   ]
  },
  {
   "cell_type": "code",
   "execution_count": null,
   "metadata": {},
   "outputs": [],
   "source": [
    "''' \n",
    "TODO:\n",
    "- get the files from oak\n",
    "- run the waveform extraction code (above)\n",
    "- check that it worked / debug\n",
    "- clean up the below code\n",
    "- transfer bulk to the fig6 analysis and plotting packages\n",
    "- move remaining code to the fig6 and supp fig notebooks as appropriate\n",
    "'''"
   ]
  },
  {
   "cell_type": "code",
   "execution_count": 4,
   "metadata": {},
   "outputs": [],
   "source": [
    "''' choose an example session '''\n",
    "ex_idx = -1\n",
    "session_ID = sorted_sessions[ex_idx]\n",
    "cell_ids = ex_cells[ex_idx]\n",
    "n_maps = session_maps[ex_idx]"
   ]
  },
  {
   "cell_type": "code",
   "execution_count": 5,
   "metadata": {},
   "outputs": [
    {
     "name": "stdout",
     "output_type": "stream",
     "text": [
      "../data/neural_data/multi_map/Toronto_1117_1/Toronto_1117_1_data.mat\n",
      "dict_keys(['dat_path', 'n_channels_dat', 'dtype', 'offset', 'sample_rate', 'hp_filtered', 'st', 'spikeTemplates', 'clu', 'tempScalingAmps', 'cgs', 'cids', 'xcoords', 'ycoords', 'temps', 'winv', 'pcFeat', 'pcFeatInd', 'spike_depth', 'waveforms'])\n",
      "loaded data for Toronto_1117_1\n"
     ]
    }
   ],
   "source": [
    "''' load the data, divide by map, and filter out unstable trials '''\n",
    "d = analysis.load_neural_data(data_folder, session_ID)\n",
    "d = analysis.format_neural_data(d, n_maps=n_maps,\n",
    "                                filter_stability=False, unstable_thresh=0.25)\n",
    "sp = raw.load_np_data(data_folder, session_ID)\n",
    "d['sp'] = sp\n",
    "print(f'loaded data for {session_ID}')"
   ]
  },
  {
   "cell_type": "code",
   "execution_count": 6,
   "metadata": {},
   "outputs": [],
   "source": [
    "''' get the waveform data\n",
    "epochs : ndarray, shape (num_epochs, 2) \n",
    "    time associated with the start and end of each epoch\n",
    "waveform_avg : ndarray, shape (num_epochs, num_cells, num_channels, num_samples)\n",
    "    average waveforms for each epoch\n",
    "waveform_std : corresponding standard deviations\n",
    "'''\n",
    "path = f'{data_folder}{session_ID}/'\n",
    "d['waveform_avg'] = np.load(f'{path}mean_waveforms.npy')\n",
    "d['waveform_std'] = np.load(f'{path}stddev_waveforms.npy')\n",
    "\n",
    "# get the epochs in ks samples and convert to trial numbers\n",
    "d['epochs'] = np.load(f'{path}{session_ID}_epochs.npy')\n",
    "d['epoch_trials'] = analysis.samples_to_trials(d)"
   ]
  },
  {
   "cell_type": "code",
   "execution_count": 8,
   "metadata": {},
   "outputs": [],
   "source": [
    "''' get the channel associated with each cell:\n",
    "- get cell depth : sp['spike_depth']\n",
    "- find the channel closest in depth : sp['ycoords']\n",
    "'''\n",
    "cells = d['cells']\n",
    "sp = d['sp']\n",
    "depth_unsorted = sp['spike_depth'].copy()\n",
    "\n",
    "# get all good cells\n",
    "cgs = sp['cgs'].copy()\n",
    "cids = sp['cids'].copy()\n",
    "good_cells = cids[cgs == 2]\n",
    "\n",
    "# get depth for each MEC cell\n",
    "depth = np.zeros(cells.shape[0])\n",
    "for i, c in enumerate(cells):\n",
    "    depth[i] = depth_unsorted[good_cells==c]\n",
    "\n",
    "# get nearest channel\n",
    "# there are 385 channels and 379 ycoords, so I'm calling those the middle 379 channels\n",
    "channel_depths = sp['ycoords'].copy()\n",
    "channels = np.zeros(cells.shape[0])\n",
    "for i, y in enumerate(depth):\n",
    "    channels[i] = 3 + np.argmin(np.abs(channel_depths - y))\n",
    "d['cell_channels'] = channels.astype(int)"
   ]
  },
  {
   "cell_type": "code",
   "execution_count": 9,
   "metadata": {},
   "outputs": [
    {
     "name": "stdout",
     "output_type": "stream",
     "text": [
      "Toronto_1117_1: n cells = 162, n epochs = 4\n",
      "across all cells: median correlation = 0.9856, 5th percentile = 0.856\n"
     ]
    }
   ],
   "source": [
    "''' compare waveforms across maps '''\n",
    "waveform_avg = d['waveform_avg'].copy()\n",
    "waveform_std = d['waveform_std'].copy()\n",
    "n_epochs, n_cells, n_channels, n_samples = waveform_avg.shape\n",
    "n_pairs = n_epochs//2\n",
    "print(f'{session_ID}: n cells = {n_cells}, n epochs = {n_epochs}')\n",
    "\n",
    "# for each cell, grab the avg waveforms for just the 20 best channels\n",
    "cell_channels = d['cell_channels'].copy()\n",
    "wf_avg = np.zeros((n_epochs, n_cells, 20, n_samples))\n",
    "for i, ch in enumerate(cell_channels):\n",
    "    if ch < 10:\n",
    "        wf_avg[:, i, :, :] = waveform_avg[:, i, :20, :]\n",
    "    elif ch > 375:\n",
    "        wf_avg[:, i, :, :] = waveform_avg[:, i, 365:, :]\n",
    "    else:\n",
    "        wf_avg[:, i, :, :] = waveform_avg[:, i, ch-10:ch+10, :]\n",
    "\n",
    "# compute correlation for flattened vectors\n",
    "avg_corr = np.zeros(n_cells)\n",
    "for p in range(n_pairs):\n",
    "    i = 2*p\n",
    "    flat_wf_avg_pre = np.reshape(wf_avg[i, :, :, :], (n_cells, -1))\n",
    "    flat_wf_avg_post = np.reshape(wf_avg[i+1, :, :, :], (n_cells, -1))\n",
    "    flat_wf_avg = np.row_stack((flat_wf_avg_pre, flat_wf_avg_post))\n",
    "    corr_vec = np.abs(pdist(flat_wf_avg, 'correlation')-1)\n",
    "    correlations = np.diagonal(squareform(corr_vec), offset=n_cells)\n",
    "    avg_corr += correlations\n",
    "avg_corr = avg_corr[~np.isnan(avg_corr)]\n",
    "avg_corr = avg_corr/n_pairs\n",
    "\n",
    "# get quartiles and median\n",
    "pct_5 = np.percentile(avg_corr, 5)\n",
    "pct_95 = np.percentile(avg_corr, 95)\n",
    "med_corr = np.median(avg_corr)\n",
    "\n",
    "d['correlations'] = avg_corr\n",
    "print(f'across all cells: median correlation = {med_corr:.4}, 5th percentile = {pct_5:.4}')"
   ]
  },
  {
   "cell_type": "code",
   "execution_count": 10,
   "metadata": {},
   "outputs": [],
   "source": [
    "''' plot example rasters and waveforms '''\n",
    "waveform_colors = np.asarray([[0, 0, 0, 255], [60, 60, 60, 255], [120, 120, 120, 255], # grayscale\n",
    "                             [153, 119, 0, 255], [221, 170, 51, 255], [238, 204, 102, 255]]) # yellows\n",
    "waveform_colors = waveform_colors/255\n",
    "waveform_colors = list(waveform_colors)\n",
    "for i, c in enumerate(waveform_colors):\n",
    "    waveform_colors[i] = tuple(c)"
   ]
  },
  {
   "cell_type": "code",
   "execution_count": 38,
   "metadata": {},
   "outputs": [
    {
     "data": {
      "image/png": "[encoded data removed]",
      "text/plain": [
       "<Figure size 216x108 with 6 Axes>"
      ]
     },
     "metadata": {},
     "output_type": "display_data"
    },
    {
     "data": {
      "image/png": "[encoded data removed]",
      "text/plain": [
       "<Figure size 216x108 with 6 Axes>"
      ]
     },
     "metadata": {},
     "output_type": "display_data"
    },
    {
     "data": {
      "image/png": "[encoded data removed]",
      "text/plain": [
       "<Figure size 216x108 with 6 Axes>"
      ]
     },
     "metadata": {},
     "output_type": "display_data"
    }
   ],
   "source": [
    "for c_id in cell_ids:\n",
    "    # data params\n",
    "    A = d['A']\n",
    "    B = d['B']\n",
    "    cells = d['cells']\n",
    "    waveform_avg = d['waveform_avg'].copy()\n",
    "    waveform_std = d['waveform_std'].copy()\n",
    "    n_epochs, n_cells, n_channels, n_samples = waveform_avg.shape\n",
    "    n_pairs = n_epochs//2\n",
    "    ex_trials = d['epoch_trials']\n",
    "    assert(n_epochs == ex_trials.shape[0])\n",
    "\n",
    "    # plotting params\n",
    "    gs = gridspec.GridSpec(2, n_pairs+2, wspace=0.2, hspace=0)\n",
    "    f = plt.figure(figsize=((n_pairs)*1.5, 1.5))\n",
    "    wf_colors = waveform_colors[:n_pairs] + waveform_colors[3:3+n_pairs]\n",
    "    assert len(wf_colors) == n_epochs\n",
    "    PT_SIZE = 0.6\n",
    "\n",
    "    # get cell indices\n",
    "    cdx = np.where(cells==c_id)[0][0]\n",
    "    sdx = B[:, cdx].astype(bool)\n",
    "\n",
    "    # compute unfiltered avg correlation\n",
    "    cell_channels = d['cell_channels'].copy()\n",
    "    wf_avg = np.zeros((n_epochs, n_cells, 20, n_samples))\n",
    "    for i, ch in enumerate(cell_channels):\n",
    "        if ch < 10:\n",
    "            wf_avg[:, i, :, :] = waveform_avg[:, i, :20, :]\n",
    "        elif ch > 375:\n",
    "            wf_avg[:, i, :, :] = waveform_avg[:, i, 365:, :]\n",
    "        else:\n",
    "            wf_avg[:, i, :, :] = waveform_avg[:, i, ch-10:ch+10, :]\n",
    "    avg_corr = np.zeros(n_cells)\n",
    "    for p in range(n_pairs):\n",
    "        i = 2*p\n",
    "        flat_wf_avg_pre = np.reshape(wf_avg[i, :, :, :], (n_cells, -1))\n",
    "        flat_wf_avg_post = np.reshape(wf_avg[i+1, :, :, :], (n_cells, -1))\n",
    "        flat_wf_avg = np.row_stack((flat_wf_avg_pre, flat_wf_avg_post))\n",
    "        corr_vec = np.abs(pdist(flat_wf_avg, 'correlation')-1)\n",
    "        correlations = np.diagonal(squareform(corr_vec), offset=n_cells)\n",
    "        avg_corr += correlations\n",
    "    avg_corr = avg_corr/n_pairs\n",
    "\n",
    "    # plot raster, color points for example waveforms\n",
    "    ax0 = plt.subplot(gs[:, 0])\n",
    "    trials = A[:, 2]\n",
    "    max_trial = np.max(A[:, 2]) + 1\n",
    "    ax0.scatter(A[:, 0][sdx], A[:, 2][sdx], color='k', lw=0, s=PT_SIZE, alpha=.1)\n",
    "    for i in range(n_epochs):\n",
    "        trial_idx = (trials[sdx] >= ex_trials[i, 0]) & (trials[sdx] <= ex_trials[i, 1])\n",
    "        ax0.scatter(A[:, 0][sdx][trial_idx], A[:, 2][sdx][trial_idx], \n",
    "                   color=wf_colors[i], lw=0, s=PT_SIZE, alpha=0.8)\n",
    "    ax0.set_xlim([0, 400])\n",
    "    ylim_ax = [0, max_trial]\n",
    "    ax0.set_ylim(ylim_ax[::-1])\n",
    "    ax0.set_yticks(np.arange(0, max_trial, 100))\n",
    "    ax0.set_xticks([0, 200, 400])\n",
    "    ax0.set_title('unit {}'.format(c_id), fontsize=10, pad=3)\n",
    "    ax0.tick_params(which='major', labelsize=7.5, pad=0.5)\n",
    "    ax0.set_xlabel('position (cm)', fontsize=9, labelpad=1)\n",
    "    ax0.set_ylabel('trial num', fontsize=9, labelpad=1)\n",
    "\n",
    "    # plot example waveforms\n",
    "    ax2 = plt.subplot(gs[:, n_pairs+1])\n",
    "    for i in range(n_epochs):\n",
    "        if i < n_pairs:\n",
    "            ax1 = plt.subplot(gs[0, i+1])\n",
    "        else:\n",
    "            ax1 = plt.subplot(gs[1, i-n_pairs+1])\n",
    "        fig6_plots.plot_waveforms(d, c_id, i, ax1, wf_colors[i])\n",
    "        fig6_plots.plot_waveforms(d, c_id, i, ax2, wf_colors[i], plot_std=False)\n",
    "        if i == n_pairs//2:\n",
    "            ax1.set_title('avg corr. = {}'.format(np.round(avg_corr[cdx], 3)), \n",
    "                          fontsize=10, pad=3, )\n",
    "    ax2.tick_params(which='major', labelsize=7.5, pad=0.5)\n",
    "    ax2.set_title('overlay', fontsize=10, pad=3)\n",
    "\n",
    "    f.savefig(f'{save_folder}{session_ID}_example_cell_{c_id}.png', dpi=400, bbox_inches='tight')\n",
    "    plt.show()"
   ]
  },
  {
   "cell_type": "code",
   "execution_count": 13,
   "metadata": {},
   "outputs": [
    {
     "data": {
      "text/plain": [
       "'\\nParams are chosen to match Low et al. as best as possible.\\n\\nTo extract waveforms we need:\\nepoch_times : ndarray, shape (num_epochs, 2) \\n    time associated with the start and end of each epoch\\n    choose trial blocks to analyze (stable, 10 or more trials)\\n    get the start and end times of those blocks\\n    save as \"epochs.npy\"\\ncell_ids : ndarray, shape (num_cells,)\\n    which cells to analyze - probably just do all of them\\n    save as \"MEC_cellIDs.npy\"\\nspikes_per_epoch : int\\n    max number of spikes to extract (1000)\\nneuropixels output file:\\n    \"{session_id}_imec0\"\\n\\n\\n\\n\\n'"
      ]
     },
     "execution_count": 13,
     "metadata": {},
     "output_type": "execute_result"
    }
   ],
   "source": [
    "'''\n",
    "Params are chosen to match Low et al. as best as possible.\n",
    "\n",
    "To extract waveforms we need:\n",
    "epoch_times : ndarray, shape (num_epochs, 2) \n",
    "    time associated with the start and end of each epoch\n",
    "    choose trial blocks to analyze (stable, 10 or more trials)\n",
    "    get the start and end times of those blocks\n",
    "    save as \"epochs.npy\"\n",
    "cell_ids : ndarray, shape (num_cells,)\n",
    "    which cells to analyze - probably just do all of them\n",
    "    save as \"MEC_cellIDs.npy\"\n",
    "spikes_per_epoch : int\n",
    "    max number of spikes to extract (1000)\n",
    "neuropixels output file:\n",
    "    \"{session_id}_imec0\"\n",
    "\n",
    "\n",
    "\n",
    "\n",
    "'''"
   ]
  }
 ],
 "metadata": {
  "kernelspec": {
   "display_name": "Python 3",
   "language": "python",
   "name": "python3"
  },
  "language_info": {
   "codemirror_mode": {
    "name": "ipython",
    "version": 3
   },
   "file_extension": ".py",
   "mimetype": "text/x-python",
   "name": "python",
   "nbconvert_exporter": "python",
   "pygments_lexer": "ipython3",
   "version": "3.6.5"
  }
 },
 "nbformat": 4,
 "nbformat_minor": 2
}
