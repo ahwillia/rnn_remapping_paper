{
 "cells": [
  {
   "cell_type": "code",
   "execution_count": 1,
   "metadata": {},
   "outputs": [],
   "source": [
    "import sys\n",
    "sys.path.append(\"../data/saved_models/\")\n",
    "sys.path.append(\"../model_scripts/\")\n",
    "sys.path.append(\"../utils/\")\n",
    "import os\n",
    "import json\n",
    "\n",
    "import numpy as np\n",
    "import torch\n",
    "from scipy import stats\n",
    "\n",
    "import matplotlib.pyplot as plt\n",
    "import fig2_align_plots\n",
    "\n",
    "import fig2_align_analysis as rnn\n",
    "import basic_analysis as basic\n",
    "import model_utils\n",
    "import dim_alignment as dim\n",
    "from task import generate_batch"
   ]
  },
  {
   "cell_type": "code",
   "execution_count": 2,
   "metadata": {},
   "outputs": [
    {
     "name": "stdout",
     "output_type": "stream",
     "text": [
      "save folder exists\n"
     ]
    }
   ],
   "source": [
    "# file paths\n",
    "data_folder = f\"../data/saved_models/1d_2map/\"\n",
    "save_folder = f\"../figures/fig2_align_plots/\"\n",
    "\n",
    "if os.path.isdir(save_folder):\n",
    "    print('save folder exists')\n",
    "else:\n",
    "    os.mkdir(save_folder)"
   ]
  },
  {
   "cell_type": "code",
   "execution_count": 3,
   "metadata": {},
   "outputs": [],
   "source": [
    "# get the model IDs for all saved models\n",
    "model_IDs = os.listdir(data_folder)\n",
    "\n",
    "# select example model\n",
    "ex_id = 0\n",
    "model_ID = model_IDs[ex_id]"
   ]
  },
  {
   "cell_type": "code",
   "execution_count": 4,
   "metadata": {},
   "outputs": [],
   "source": [
    "# get sample rnn data\n",
    "inputs, outputs, targets = model_utils.sample_rnn_data(data_folder, model_ID)\n",
    "X, map_targ, pos_targ = model_utils.format_rnn_data(outputs[\"hidden_states\"],\\\n",
    "                                                    targets[\"map_targets\"],\\\n",
    "                                                    targets[\"pos_targets\"])"
   ]
  },
  {
   "cell_type": "code",
   "execution_count": 5,
   "metadata": {},
   "outputs": [
    {
     "name": "stdout",
     "output_type": "stream",
     "text": [
      "the avg angle between position outputs is 88 deg.\n"
     ]
    }
   ],
   "source": [
    "''' are the position outputs orthogonal? '''\n",
    "n_models = len(model_IDs)\n",
    "\n",
    "pos_out_angle = np.zeros(n_models)\n",
    "for i, m_id in enumerate(model_IDs):\n",
    "    # get the model weights\n",
    "    model, _, _ = model_utils.load_model_params(data_folder, model_ID)\n",
    "    pos_out_w = model.readout_layer_pos.weight\n",
    "    pos_out_w = pos_out_w.detach().numpy().T\n",
    "    \n",
    "    # angle between output weights\n",
    "    pos_out_angle[i] = dim.cosine_sim(pos_out_w[:, 0], pos_out_w[:, 1])\n",
    "    \n",
    "avg_angle = np.rad2deg(np.arccos(np.abs(np.mean(pos_out_angle))))\n",
    "print(f'the avg angle between position outputs is {int(avg_angle)} deg.')"
   ]
  },
  {
   "cell_type": "code",
   "execution_count": 6,
   "metadata": {},
   "outputs": [
    {
     "name": "stdout",
     "output_type": "stream",
     "text": [
      "model 1 of 15\n",
      "model 2 of 15\n",
      "model 3 of 15\n",
      "model 4 of 15\n",
      "model 5 of 15\n",
      "model 6 of 15\n",
      "model 7 of 15\n",
      "model 8 of 15\n",
      "model 9 of 15\n",
      "model 10 of 15\n",
      "model 11 of 15\n",
      "model 12 of 15\n",
      "model 13 of 15\n",
      "model 14 of 15\n",
      "model 15 of 15\n",
      "mean W * xi = 9.23e-06\n",
      "s.e.m. W * xi = 1.63e-05\n"
     ]
    },
    {
     "data": {
      "image/png": "[encoded data removed]",
      "text/plain": [
       "<Figure size 180x86.4 with 1 Axes>"
      ]
     },
     "metadata": {},
     "output_type": "display_data"
    }
   ],
   "source": [
    "''' Figure 2C: comparison of the true and ideal remap vectors '''\n",
    "f, ax = fig2_align_plots.plot_c(data_folder, model_IDs)\n",
    "f.savefig(f'{save_folder}remap_vectors.png', dpi=600, bbox_inches='tight')\n",
    "plt.show()"
   ]
  },
  {
   "cell_type": "code",
   "execution_count": 5,
   "metadata": {},
   "outputs": [
    {
     "data": {
      "image/png": "[encoded data removed]",
      "text/plain": [
       "<Figure size 151.2x151.2 with 4 Axes>"
      ]
     },
     "metadata": {},
     "output_type": "display_data"
    }
   ],
   "source": [
    "''' Figure 2D, E: example showing the geometry of the remap vectors '''\n",
    "f = fig2_align_plots.plot_d_e(data_folder, model_ID)\n",
    "f.savefig(f'{save_folder}remap_dims.png', dpi=600, bbox_inches='tight')\n",
    "plt.show()"
   ]
  },
  {
   "cell_type": "code",
   "execution_count": 5,
   "metadata": {},
   "outputs": [],
   "source": [
    "from sklearn.decomposition import PCA\n",
    "\n",
    "# get the remap vectors\n",
    "xi_p, _, _ = rnn.compute_remap_vectors(data_folder, model_ID)\n",
    "\n",
    "# data params\n",
    "n_dims = np.min(xi_p.shape)\n",
    "spacer = n_dims / 50\n",
    "pos_bins = np.linspace(0, 2*np.pi, n_dims)\n",
    "\n",
    "# PCA on remap vectors\n",
    "xi_bar = xi_p - np.mean(xi_p, axis=0)\n",
    "pca = PCA().fit(xi_bar)\n",
    "var = pca.explained_variance_\n",
    "total_var_remap = np.sum(var)\n",
    "pct_var = (var / total_var_remap)\n",
    "cum_var = np.cumsum(pct_var)\n",
    "x_, y_ = PCA(n_components=2).fit_transform(xi_bar).T"
   ]
  },
  {
   "cell_type": "code",
   "execution_count": 12,
   "metadata": {},
   "outputs": [],
   "source": [
    "# get the variance of the full network\n",
    "X_bar = X - np.mean(X, axis=0)\n",
    "pca = PCA().fit(X_bar)\n",
    "var = pca.explained_variance_\n",
    "total_var_full = np.sum(var)"
   ]
  },
  {
   "cell_type": "code",
   "execution_count": 13,
   "metadata": {},
   "outputs": [],
   "source": [
    "# get the variance of the position subspaces\n",
    "pos_ring = rnn.compute_pos_ring(data_folder, model_ID)\n",
    "pos_bar = pos_ring - np.mean(pos_ring, axis=0)\n",
    "pca = PCA().fit(pos_bar)\n",
    "var = pca.explained_variance_\n",
    "total_var_pos = np.sum(var)"
   ]
  },
  {
   "cell_type": "code",
   "execution_count": 50,
   "metadata": {},
   "outputs": [],
   "source": [
    "# get the relative variance\n",
    "rel_var = np.asarray([\n",
    "    total_var_remap / total_var_full,\n",
    "    total_var_pos / total_var_full\n",
    "])"
   ]
  },
  {
   "cell_type": "code",
   "execution_count": 60,
   "metadata": {},
   "outputs": [
    {
     "data": {
      "image/png": "[encoded data removed]",
      "text/plain": [
       "<Figure size 72x144 with 1 Axes>"
      ]
     },
     "metadata": {},
     "output_type": "display_data"
    }
   ],
   "source": [
    "# colors\n",
    "map_col = 'xkcd:scarlet'\n",
    "pos_col = 'xkcd:cobalt blue'\n",
    "\n",
    "# fig params\n",
    "f, ax = plt.subplots(1, 1, figsize=(1, 2))\n",
    "bar_colors = [map_col, pos_col]\n",
    "xcoords = [1, 2]\n",
    "\n",
    "# plot relative variance\n",
    "ylims = ax.get_ylim()\n",
    "ax.bar(xcoords, rel_var,\n",
    "       width=0.6, bottom=ylims[0],\n",
    "       color=bar_colors, alpha=1, edgecolor='k')\n",
    "\n",
    "# ticks and lims\n",
    "ax.set_xticks([])\n",
    "ax.set_yticks(np.arange(0, 1.2, 0.5))\n",
    "ax.spines['right'].set_visible(False)\n",
    "ax.spines['top'].set_visible(False)\n",
    "ax.spines['left'].set_bounds(0, 1)\n",
    "ax.spines['bottom'].set_bounds(xcoords[0] - 0.6,\n",
    "                                  xcoords[-1] + 0.6)\n",
    "ax.set_xlim([xcoords[0] - 0.7,\n",
    "                xcoords[-1] + 0.7])\n",
    "ax.set_ylim([0, 1])\n",
    "\n",
    "plt.show()"
   ]
  },
  {
   "cell_type": "code",
   "execution_count": 38,
   "metadata": {},
   "outputs": [
    {
     "name": "stdout",
     "output_type": "stream",
     "text": [
      "2.0181507531677574\n",
      "2.0181507531677565\n"
     ]
    }
   ],
   "source": [
    "print(np.trace(pos_bar.T @ pos_bar) / 49)\n",
    "print(PCA().fit(pos_bar).explained_variance_.sum())"
   ]
  },
  {
   "cell_type": "code",
   "execution_count": 49,
   "metadata": {},
   "outputs": [
    {
     "data": {
      "text/plain": [
       "(-1, 7)"
      ]
     },
     "execution_count": 49,
     "metadata": {},
     "output_type": "execute_result"
    },
    {
     "data": {
      "image/png": "[encoded data removed]",
      "text/plain": [
       "<Figure size 720x720 with 1 Axes>"
      ]
     },
     "metadata": {},
     "output_type": "display_data"
    }
   ],
   "source": [
    "plt.figure(figsize=(10, 10))\n",
    "plt.plot(PCA().fit(np.row_stack([xi_bar, pos_bar])).explained_variance_ * 99, '.-')\n",
    "plt.plot(PCA().fit(xi_bar).explained_variance_ * 49, '.-r')\n",
    "plt.plot(PCA().fit(pos_bar).explained_variance_ * 49, '.-')\n",
    "plt.xlim([-1, 7])"
   ]
  },
  {
   "cell_type": "code",
   "execution_count": 26,
   "metadata": {},
   "outputs": [
    {
     "data": {
      "text/plain": [
       "84.04059216607038"
      ]
     },
     "execution_count": 26,
     "metadata": {},
     "output_type": "execute_result"
    }
   ],
   "source": [
    "np.trace(xi_bar.T @ xi_bar)"
   ]
  },
  {
   "cell_type": "code",
   "execution_count": 27,
   "metadata": {},
   "outputs": [
    {
     "data": {
      "text/plain": [
       "1.7151141258381728"
      ]
     },
     "execution_count": 27,
     "metadata": {},
     "output_type": "execute_result"
    }
   ],
   "source": [
    "total_var_remap"
   ]
  },
  {
   "cell_type": "code",
   "execution_count": 28,
   "metadata": {},
   "outputs": [
    {
     "data": {
      "text/plain": [
       "2.0181507531677565"
      ]
     },
     "execution_count": 28,
     "metadata": {},
     "output_type": "execute_result"
    }
   ],
   "source": [
    "total_var_pos"
   ]
  },
  {
   "cell_type": "code",
   "execution_count": null,
   "metadata": {},
   "outputs": [],
   "source": []
  }
 ],
 "metadata": {
  "kernelspec": {
   "display_name": "Python 3",
   "language": "python",
   "name": "python3"
  },
  "language_info": {
   "codemirror_mode": {
    "name": "ipython",
    "version": 3
   },
   "file_extension": ".py",
   "mimetype": "text/x-python",
   "name": "python",
   "nbconvert_exporter": "python",
   "pygments_lexer": "ipython3",
   "version": "3.6.5"
  }
 },
 "nbformat": 4,
 "nbformat_minor": 2
}
