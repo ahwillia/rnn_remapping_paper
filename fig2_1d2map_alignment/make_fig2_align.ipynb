{
 "cells": [
  {
   "cell_type": "code",
   "execution_count": 1,
   "metadata": {},
   "outputs": [],
   "source": [
    "import sys\n",
    "sys.path.append(\"../data/saved_models/\")\n",
    "sys.path.append(\"../model_scripts/\")\n",
    "sys.path.append(\"../utils/\")\n",
    "import os\n",
    "import json\n",
    "\n",
    "import numpy as np\n",
    "import torch\n",
    "from scipy import stats\n",
    "\n",
    "import matplotlib.pyplot as plt\n",
    "import fig2_align_plots\n",
    "\n",
    "import fig2_align_analysis as rnn\n",
    "import basic_analysis as basic\n",
    "import model_utils\n",
    "import dim_alignment as dim\n",
    "from task import generate_batch"
   ]
  },
  {
   "cell_type": "code",
   "execution_count": 2,
   "metadata": {},
   "outputs": [
    {
     "name": "stdout",
     "output_type": "stream",
     "text": [
      "save folder exists\n"
     ]
    }
   ],
   "source": [
    "# file paths\n",
    "data_folder = f\"../data/saved_models/1d_2map/\"\n",
    "save_folder = f\"../figures/fig2_align_plots/\"\n",
    "\n",
    "if os.path.isdir(save_folder):\n",
    "    print('save folder exists')\n",
    "else:\n",
    "    os.mkdir(save_folder)"
   ]
  },
  {
   "cell_type": "code",
   "execution_count": 3,
   "metadata": {},
   "outputs": [],
   "source": [
    "# get the model IDs for all saved models\n",
    "model_IDs = os.listdir(data_folder)\n",
    "\n",
    "# select example model\n",
    "ex_id = 0\n",
    "model_ID = model_IDs[ex_id]"
   ]
  },
  {
   "cell_type": "code",
   "execution_count": 4,
   "metadata": {},
   "outputs": [],
   "source": [
    "# get sample rnn data\n",
    "inputs, outputs, targets = model_utils.sample_rnn_data(data_folder, model_ID)\n",
    "X, map_targ, pos_targ = model_utils.format_rnn_data(outputs[\"hidden_states\"],\\\n",
    "                                                    targets[\"map_targets\"],\\\n",
    "                                                    targets[\"pos_targets\"])"
   ]
  },
  {
   "cell_type": "code",
   "execution_count": 5,
   "metadata": {},
   "outputs": [
    {
     "name": "stdout",
     "output_type": "stream",
     "text": [
      "the avg angle between position outputs is 88 deg.\n"
     ]
    }
   ],
   "source": [
    "''' are the position outputs orthogonal? '''\n",
    "n_models = len(model_IDs)\n",
    "\n",
    "pos_out_angle = np.zeros(n_models)\n",
    "for i, m_id in enumerate(model_IDs):\n",
    "    # get the model weights\n",
    "    model, _, _ = model_utils.load_model_params(data_folder, model_ID)\n",
    "    pos_out_w = model.readout_layer_pos.weight\n",
    "    pos_out_w = pos_out_w.detach().numpy().T\n",
    "    \n",
    "    # angle between output weights\n",
    "    pos_out_angle[i] = dim.cosine_sim(pos_out_w[:, 0], pos_out_w[:, 1])\n",
    "    \n",
    "avg_angle = np.rad2deg(np.arccos(np.abs(np.mean(pos_out_angle))))\n",
    "print(f'the avg angle between position outputs is {int(avg_angle)} deg.')"
   ]
  },
  {
   "cell_type": "code",
   "execution_count": 6,
   "metadata": {},
   "outputs": [
    {
     "name": "stdout",
     "output_type": "stream",
     "text": [
      "model 1 of 15\n",
      "model 2 of 15\n",
      "model 3 of 15\n",
      "model 4 of 15\n",
      "model 5 of 15\n",
      "model 6 of 15\n",
      "model 7 of 15\n",
      "model 8 of 15\n",
      "model 9 of 15\n",
      "model 10 of 15\n",
      "model 11 of 15\n",
      "model 12 of 15\n",
      "model 13 of 15\n",
      "model 14 of 15\n",
      "model 15 of 15\n",
      "mean W * xi = 9.23e-06\n",
      "s.e.m. W * xi = 1.63e-05\n"
     ]
    },
    {
     "data": {
      "image/png": "[encoded data removed]",
      "text/plain": [
       "<Figure size 180x86.4 with 1 Axes>"
      ]
     },
     "metadata": {},
     "output_type": "display_data"
    }
   ],
   "source": [
    "''' Figure 2C: comparison of the true and ideal remap vectors '''\n",
    "f, ax = fig2_align_plots.plot_c(data_folder, model_IDs)\n",
    "f.savefig(f'{save_folder}remap_vectors.png', dpi=600, bbox_inches='tight')\n",
    "plt.show()"
   ]
  },
  {
   "cell_type": "code",
   "execution_count": 8,
   "metadata": {},
   "outputs": [
    {
     "data": {
      "image/png": "[encoded data removed]",
      "text/plain": [
       "<Figure size 151.2x151.2 with 3 Axes>"
      ]
     },
     "metadata": {},
     "output_type": "display_data"
    }
   ],
   "source": [
    "''' Figure 2D: example showing the geometry of the remap vectors '''\n",
    "f = fig2_align_plots.plot_d(data_folder, model_ID)\n",
    "f.savefig(f'{save_folder}remap_dims.png', dpi=600, bbox_inches='tight')\n",
    "plt.show()"
   ]
  },
  {
   "cell_type": "code",
   "execution_count": null,
   "metadata": {},
   "outputs": [],
   "source": []
  }
 ],
 "metadata": {
  "kernelspec": {
   "display_name": "Python 3",
   "language": "python",
   "name": "python3"
  },
  "language_info": {
   "codemirror_mode": {
    "name": "ipython",
    "version": 3
   },
   "file_extension": ".py",
   "mimetype": "text/x-python",
   "name": "python",
   "nbconvert_exporter": "python",
   "pygments_lexer": "ipython3",
   "version": "3.6.5"
  }
 },
 "nbformat": 4,
 "nbformat_minor": 2
}
