{
 "cells": [
  {
   "cell_type": "code",
   "execution_count": 1,
   "metadata": {},
   "outputs": [],
   "source": [
    "import sys\n",
    "sys.path.append(\"../data/saved_models/\")\n",
    "sys.path.append(\"../model_scripts/\")\n",
    "sys.path.append(\"../utils/\")\n",
    "import os\n",
    "import json\n",
    "\n",
    "import numpy as np\n",
    "import torch\n",
    "\n",
    "import matplotlib.pyplot as plt\n",
    "import fig3_plots\n",
    "\n",
    "import fig3_analysis as rnn\n",
    "import basic_analysis as basic\n",
    "import model_utils\n",
    "from task import generate_batch\n",
    "\n",
    "import scipy\n",
    "from scipy import stats\n",
    "from sklearn.decomposition import PCA\n",
    "from scipy.ndimage import gaussian_filter1d\n",
    "from scipy.spatial import distance as dist"
   ]
  },
  {
   "cell_type": "code",
   "execution_count": 2,
   "metadata": {},
   "outputs": [
    {
     "name": "stdout",
     "output_type": "stream",
     "text": [
      "save folder exists\n"
     ]
    }
   ],
   "source": [
    "# file paths\n",
    "data_folder = f\"../data/saved_models/2d_2map/\"\n",
    "save_folder = f\"../figures/fig3_plots/\"\n",
    "\n",
    "if os.path.isdir(save_folder):\n",
    "    print('save folder exists')\n",
    "else:\n",
    "    os.mkdir(save_folder)\n",
    "    \n",
    "# font sizes\n",
    "title_size = 10"
   ]
  },
  {
   "cell_type": "code",
   "execution_count": 3,
   "metadata": {},
   "outputs": [],
   "source": [
    "# get the model IDs for all saved models\n",
    "model_IDs = os.listdir(data_folder)\n",
    "\n",
    "# select example model\n",
    "ex_id = 2\n",
    "model_ID = model_IDs[ex_id]"
   ]
  },
  {
   "cell_type": "code",
   "execution_count": 4,
   "metadata": {},
   "outputs": [
    {
     "ename": "RuntimeError",
     "evalue": "The expanded size of the tensor (2) must match the existing size (4) at non-singleton dimension 1.  Target sizes: [100, 2].  Tensor sizes: [100, 4]",
     "output_type": "error",
     "traceback": [
      "\u001b[1;31m---------------------------------------------------------------------------\u001b[0m",
      "\u001b[1;31mRuntimeError\u001b[0m                              Traceback (most recent call last)",
      "\u001b[1;32m<ipython-input-4-303af82e328a>\u001b[0m in \u001b[0;36m<module>\u001b[1;34m()\u001b[0m\n\u001b[0;32m      1\u001b[0m \u001b[1;31m# get sample rnn data\u001b[0m\u001b[1;33m\u001b[0m\u001b[1;33m\u001b[0m\u001b[0m\n\u001b[1;32m----> 2\u001b[1;33m \u001b[0minputs\u001b[0m\u001b[1;33m,\u001b[0m \u001b[0moutputs\u001b[0m\u001b[1;33m,\u001b[0m \u001b[0mtargets\u001b[0m \u001b[1;33m=\u001b[0m \u001b[0mmodel_utils\u001b[0m\u001b[1;33m.\u001b[0m\u001b[0msample_rnn_data\u001b[0m\u001b[1;33m(\u001b[0m\u001b[0mdata_folder\u001b[0m\u001b[1;33m,\u001b[0m \u001b[0mmodel_ID\u001b[0m\u001b[1;33m)\u001b[0m\u001b[1;33m\u001b[0m\u001b[0m\n\u001b[0m\u001b[0;32m      3\u001b[0m \u001b[0mX\u001b[0m\u001b[1;33m,\u001b[0m \u001b[0mmap_targ\u001b[0m\u001b[1;33m,\u001b[0m \u001b[0mpos_targ\u001b[0m \u001b[1;33m=\u001b[0m \u001b[0mmodel_utils\u001b[0m\u001b[1;33m.\u001b[0m\u001b[0mformat_rnn_data\u001b[0m\u001b[1;33m(\u001b[0m\u001b[0moutputs\u001b[0m\u001b[1;33m[\u001b[0m\u001b[1;34m\"hidden_states\"\u001b[0m\u001b[1;33m]\u001b[0m\u001b[1;33m,\u001b[0m                                                    \u001b[0mtargets\u001b[0m\u001b[1;33m[\u001b[0m\u001b[1;34m\"map_targets\"\u001b[0m\u001b[1;33m]\u001b[0m\u001b[1;33m,\u001b[0m                                                    \u001b[0mtargets\u001b[0m\u001b[1;33m[\u001b[0m\u001b[1;34m\"pos_targets\"\u001b[0m\u001b[1;33m]\u001b[0m\u001b[1;33m)\u001b[0m\u001b[1;33m\u001b[0m\u001b[0m\n",
      "\u001b[1;32mC:\\Users\\ilow1\\Documents\\Python Scripts\\rnn_remapping_paper\\utils\\model_utils.py\u001b[0m in \u001b[0;36msample_rnn_data\u001b[1;34m(data_folder, model_ID, batch_size)\u001b[0m\n\u001b[0;32m     32\u001b[0m \u001b[1;33m\u001b[0m\u001b[0m\n\u001b[0;32m     33\u001b[0m     \u001b[0mpos_outputs\u001b[0m\u001b[1;33m,\u001b[0m \u001b[0mmap_logits\u001b[0m\u001b[1;33m,\u001b[0m \u001b[0mhidden_states\u001b[0m \u001b[1;33m=\u001b[0m\u001b[0;31m\\\u001b[0m\u001b[1;33m\u001b[0m\u001b[0m\n\u001b[1;32m---> 34\u001b[1;33m             \u001b[0mmodel\u001b[0m\u001b[1;33m(\u001b[0m\u001b[0minp_init\u001b[0m\u001b[1;33m,\u001b[0m \u001b[0minp_vel\u001b[0m\u001b[1;33m,\u001b[0m \u001b[0minp_remaps\u001b[0m\u001b[1;33m)\u001b[0m\u001b[1;33m\u001b[0m\u001b[0m\n\u001b[0m\u001b[0;32m     35\u001b[0m \u001b[1;33m\u001b[0m\u001b[0m\n\u001b[0;32m     36\u001b[0m     inputs = {\n",
      "\u001b[1;32mC:\\Users\\ilow1\\Anaconda3\\lib\\site-packages\\torch\\nn\\modules\\module.py\u001b[0m in \u001b[0;36m_call_impl\u001b[1;34m(self, *input, **kwargs)\u001b[0m\n\u001b[0;32m   1049\u001b[0m         if not (self._backward_hooks or self._forward_hooks or self._forward_pre_hooks or _global_backward_hooks\n\u001b[0;32m   1050\u001b[0m                 or _global_forward_hooks or _global_forward_pre_hooks):\n\u001b[1;32m-> 1051\u001b[1;33m             \u001b[1;32mreturn\u001b[0m \u001b[0mforward_call\u001b[0m\u001b[1;33m(\u001b[0m\u001b[1;33m*\u001b[0m\u001b[0minput\u001b[0m\u001b[1;33m,\u001b[0m \u001b[1;33m**\u001b[0m\u001b[0mkwargs\u001b[0m\u001b[1;33m)\u001b[0m\u001b[1;33m\u001b[0m\u001b[0m\n\u001b[0m\u001b[0;32m   1052\u001b[0m         \u001b[1;31m# Do not call functions when jit is used\u001b[0m\u001b[1;33m\u001b[0m\u001b[1;33m\u001b[0m\u001b[0m\n\u001b[0;32m   1053\u001b[0m         \u001b[0mfull_backward_hooks\u001b[0m\u001b[1;33m,\u001b[0m \u001b[0mnon_full_backward_hooks\u001b[0m \u001b[1;33m=\u001b[0m \u001b[1;33m[\u001b[0m\u001b[1;33m]\u001b[0m\u001b[1;33m,\u001b[0m \u001b[1;33m[\u001b[0m\u001b[1;33m]\u001b[0m\u001b[1;33m\u001b[0m\u001b[0m\n",
      "\u001b[1;32mC:\\Users\\ilow1\\Documents\\Python Scripts\\rnn_remapping_paper\\model_scripts\\model.py\u001b[0m in \u001b[0;36mforward\u001b[1;34m(self, inp_init, inp_vel, inp_remaps)\u001b[0m\n\u001b[0;32m     74\u001b[0m         \u001b[1;32mfor\u001b[0m \u001b[0mt\u001b[0m\u001b[1;33m,\u001b[0m \u001b[0minp\u001b[0m \u001b[1;32min\u001b[0m \u001b[0menumerate\u001b[0m\u001b[1;33m(\u001b[0m\u001b[0minputs\u001b[0m\u001b[1;33m)\u001b[0m\u001b[1;33m:\u001b[0m\u001b[1;33m\u001b[0m\u001b[0m\n\u001b[0;32m     75\u001b[0m             \u001b[0mstate\u001b[0m \u001b[1;33m=\u001b[0m \u001b[0mself\u001b[0m\u001b[1;33m.\u001b[0m\u001b[0m_f\u001b[0m\u001b[1;33m(\u001b[0m\u001b[0mself\u001b[0m\u001b[1;33m.\u001b[0m\u001b[0mlinear_hh\u001b[0m\u001b[1;33m(\u001b[0m\u001b[0mstate\u001b[0m\u001b[1;33m)\u001b[0m \u001b[1;33m+\u001b[0m \u001b[0mself\u001b[0m\u001b[1;33m.\u001b[0m\u001b[0mlinear_ih\u001b[0m\u001b[1;33m(\u001b[0m\u001b[0minp\u001b[0m\u001b[1;33m)\u001b[0m\u001b[1;33m)\u001b[0m\u001b[1;33m\u001b[0m\u001b[0m\n\u001b[1;32m---> 76\u001b[1;33m             \u001b[0mpos_outputs\u001b[0m\u001b[1;33m[\u001b[0m\u001b[0mt\u001b[0m\u001b[1;33m]\u001b[0m \u001b[1;33m=\u001b[0m \u001b[0mself\u001b[0m\u001b[1;33m.\u001b[0m\u001b[0mreadout_layer_pos\u001b[0m\u001b[1;33m(\u001b[0m\u001b[0mstate\u001b[0m\u001b[1;33m)\u001b[0m\u001b[1;33m\u001b[0m\u001b[0m\n\u001b[0m\u001b[0;32m     77\u001b[0m             \u001b[0mmap_outputs\u001b[0m\u001b[1;33m[\u001b[0m\u001b[0mt\u001b[0m\u001b[1;33m]\u001b[0m \u001b[1;33m=\u001b[0m \u001b[0mself\u001b[0m\u001b[1;33m.\u001b[0m\u001b[0mreadout_layer_map\u001b[0m\u001b[1;33m(\u001b[0m\u001b[0mstate\u001b[0m\u001b[1;33m)\u001b[0m\u001b[1;33m\u001b[0m\u001b[0m\n\u001b[0;32m     78\u001b[0m             \u001b[0mhidden_states\u001b[0m\u001b[1;33m[\u001b[0m\u001b[0mt\u001b[0m\u001b[1;33m]\u001b[0m \u001b[1;33m=\u001b[0m \u001b[0mstate\u001b[0m\u001b[1;33m\u001b[0m\u001b[0m\n",
      "\u001b[1;31mRuntimeError\u001b[0m: The expanded size of the tensor (2) must match the existing size (4) at non-singleton dimension 1.  Target sizes: [100, 2].  Tensor sizes: [100, 4]"
     ]
    }
   ],
   "source": [
    "# get sample rnn data\n",
    "inputs, outputs, targets = model_utils.sample_rnn_data(data_folder, model_ID)\n",
    "X, map_targ, pos_targ = model_utils.format_rnn_data(outputs[\"hidden_states\"],\\\n",
    "                                                    targets[\"map_targets\"],\\\n",
    "                                                    targets[\"pos_targets\"])"
   ]
  },
  {
   "cell_type": "code",
   "execution_count": null,
   "metadata": {},
   "outputs": [],
   "source": [
    "''' Figure 3A: model schematic '''\n",
    "f, gs = fig3_plots.plot_a1(inputs[\"inp_vel\"],\\\n",
    "                          inputs[\"inp_remaps\"])\n",
    "plt.show()\n",
    "f.savefig(f'{save_folder}inputs.png', dpi=600, bbox_inches='tight')\n",
    "\n",
    "f, gs = fig3_plots.plot_a2(targets[\"pos_targets\"],\\\n",
    "                          outputs[\"pos_outputs\"],\\\n",
    "                          outputs[\"map_logits\"])\n",
    "plt.show()\n",
    "f.savefig(f'{save_folder}outputs.png', dpi=600, bbox_inches='tight')"
   ]
  },
  {
   "cell_type": "code",
   "execution_count": null,
   "metadata": {},
   "outputs": [],
   "source": [
    "''' summary performance across models '''\n",
    "f, ax = fig3_plots.plot_supp_1(data_folder, model_IDs)\n",
    "ax.set_title('2D pos\\n2 maps', fontsize=title_size, pad=5)\n",
    "plt.show()"
   ]
  },
  {
   "cell_type": "code",
   "execution_count": null,
   "metadata": {},
   "outputs": [],
   "source": [
    "''' Figure 3B: example tuning '''\n",
    "f, axes = fig3_plots.plot_b(X, map_targ, pos_targ)\n",
    "plt.show()\n",
    "f.savefig(f'{save_folder}ex_tuning.png', dpi=600, bbox_inches='tight')"
   ]
  },
  {
   "cell_type": "code",
   "execution_count": null,
   "metadata": {},
   "outputs": [],
   "source": [
    "''' Figure 3C: aligned toroidal manifolds'''\n",
    "f, ax = fig3_plots.plot_c(X, pos_targ, map_targ, \n",
    "                            num_points=4000,\n",
    "                            color_x=True)\n",
    "ax.view_init(azim=140, elev=40)\n",
    "plt.show()\n",
    "f.savefig(f'{save_folder}manifolds_xpos.png', dpi=600, bbox_inches='tight')\n",
    "\n",
    "f, ax = fig3_plots.plot_c(X, pos_targ, map_targ, \n",
    "                            num_points=4000,\n",
    "                            color_x=False)\n",
    "ax.view_init(azim=140, elev=40)\n",
    "plt.show()\n",
    "f.savefig(f'{save_folder}manifolds_ypos.png', dpi=600, bbox_inches='tight')"
   ]
  },
  {
   "cell_type": "code",
   "execution_count": null,
   "metadata": {},
   "outputs": [],
   "source": [
    "''' Figure 3D: summary of dimensionality '''\n",
    "f, axes = fig3_plots.plot_d(data_folder, model_IDs,\n",
    "                            top_num=4, top_num_1=3)\n",
    "plt.show()\n",
    "f.savefig(f'{save_folder}PCs_all.png', dpi=600, bbox_inches='tight')"
   ]
  },
  {
   "cell_type": "code",
   "execution_count": null,
   "metadata": {},
   "outputs": [],
   "source": [
    "''' Figure 3E: summary of torus alignment '''\n",
    "f, ax = fig3_plots.plot_e(data_folder, model_IDs)\n",
    "f.savefig(f'{save_folder}alignment.png', dpi=600, bbox_inches='tight')\n",
    "plt.show()"
   ]
  },
  {
   "cell_type": "code",
   "execution_count": null,
   "metadata": {},
   "outputs": [],
   "source": [
    "''' Figure 3F: slices showing aligned rings \n",
    "subsample holding x or y constant to get a slice in each direction and plot the aligned rings\n",
    "'''\n",
    "title_size = 10\n",
    "\n",
    "# slice from a fixed Y position\n",
    "X_slice, pos_targ_slice, _ = rnn.get_slice_data(data_folder, model_ID, fix_x=False)\n",
    "f, ax = fig3_plots.plot_f(X_slice, \n",
    "                          pos_targ_slice[np.abs(pos_targ_slice) > 0])\n",
    "ax.set_title('slice in X',\n",
    "              fontsize=title_size, pad=-10)\n",
    "plt.show()\n",
    "f.savefig(f'{save_folder}slices_xpos.png', dpi=600, bbox_inches='tight')\n",
    "\n",
    "# slice from a fixed X position\n",
    "X_slice, pos_targ_slice, _ = rnn.get_slice_data(data_folder, model_ID, fix_x=True)\n",
    "f, ax = fig3_plots.plot_f(X_slice,\n",
    "                          pos_targ_slice[np.abs(pos_targ_slice) > 0])\n",
    "ax.set_title('slice in Y',\n",
    "              fontsize=title_size, pad=-10)\n",
    "plt.show()\n",
    "f.savefig(f'{save_folder}slices_ypos.png', dpi=600, bbox_inches='tight') "
   ]
  },
  {
   "cell_type": "code",
   "execution_count": null,
   "metadata": {},
   "outputs": [],
   "source": [
    "''' Figure 3g: alignment to remapping dim and position subspace '''\n",
    "f, ax = fig3_plots.plot_g(data_folder, model_IDs)\n",
    "plt.show()\n",
    "f.savefig(f'{save_folder}dim_angles.png', dpi=600, bbox_inches='tight')"
   ]
  },
  {
   "cell_type": "code",
   "execution_count": null,
   "metadata": {},
   "outputs": [],
   "source": []
  }
 ],
 "metadata": {
  "kernelspec": {
   "display_name": "Python 3",
   "language": "python",
   "name": "python3"
  },
  "language_info": {
   "codemirror_mode": {
    "name": "ipython",
    "version": 3
   },
   "file_extension": ".py",
   "mimetype": "text/x-python",
   "name": "python",
   "nbconvert_exporter": "python",
   "pygments_lexer": "ipython3",
   "version": "3.6.5"
  }
 },
 "nbformat": 4,
 "nbformat_minor": 2
}
