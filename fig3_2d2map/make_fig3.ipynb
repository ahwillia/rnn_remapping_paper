{
 "cells": [
  {
   "cell_type": "code",
   "execution_count": 1,
   "metadata": {},
   "outputs": [],
   "source": [
    "import sys\n",
    "sys.path.append(\"../data/saved_models/\")\n",
    "sys.path.append(\"../model_scripts/\")\n",
    "sys.path.append(\"../utils/\")\n",
    "import os\n",
    "import json\n",
    "\n",
    "import numpy as np\n",
    "import torch\n",
    "\n",
    "import matplotlib.pyplot as plt\n",
    "import fig3_plots\n",
    "\n",
    "import fig3_analysis as rnn\n",
    "import basic_analysis as basic\n",
    "import model_utils\n",
    "from task import generate_batch\n",
    "\n",
    "import scipy\n",
    "from scipy import stats\n",
    "from sklearn.decomposition import PCA\n",
    "from scipy.ndimage import gaussian_filter1d\n",
    "from scipy.spatial import distance as dist"
   ]
  },
  {
   "cell_type": "code",
   "execution_count": 6,
   "metadata": {},
   "outputs": [
    {
     "name": "stdout",
     "output_type": "stream",
     "text": [
      "save folder exists\n"
     ]
    }
   ],
   "source": [
    "# file paths\n",
    "data_folder = f\"../data/saved_models/2d_2map/\"\n",
    "save_folder = f\"../figures/fig3_plots/\"\n",
    "\n",
    "if os.path.isdir(save_folder):\n",
    "    print('save folder exists')\n",
    "else:\n",
    "    os.mkdir(save_folder)\n",
    "    \n",
    "# font sizes\n",
    "title_size = 10"
   ]
  },
  {
   "cell_type": "code",
   "execution_count": 7,
   "metadata": {},
   "outputs": [],
   "source": [
    "# get the model IDs for all saved models\n",
    "model_IDs = os.listdir(data_folder)\n",
    "\n",
    "# select example model\n",
    "ex_id = 0\n",
    "model_ID = model_IDs[ex_id]"
   ]
  },
  {
   "cell_type": "code",
   "execution_count": 9,
   "metadata": {},
   "outputs": [],
   "source": [
    "# get sample rnn data\n",
    "inputs, outputs, targets = model_utils.sample_rnn_data(data_folder, model_ID)\n",
    "X, map_targ, pos_targ = model_utils.format_rnn_data(outputs[\"hidden_states\"],\\\n",
    "                                                    targets[\"map_targets\"],\\\n",
    "                                                    targets[\"pos_targets\"])"
   ]
  },
  {
   "cell_type": "code",
   "execution_count": null,
   "metadata": {},
   "outputs": [],
   "source": [
    "''' Figure 3A: model schematic '''\n",
    "f, gs = fig3_plots.plot_a1(inputs[\"inp_vel\"],\\\n",
    "                          inputs[\"inp_remaps\"])\n",
    "plt.show()\n",
    "f.savefig(f'{save_folder}inputs.png', dpi=600, bbox_inches='tight')\n",
    "\n",
    "f, gs = fig3_plots.plot_a2(targets[\"pos_targets\"],\\\n",
    "                          outputs[\"pos_outputs\"],\\\n",
    "                          outputs[\"map_logits\"])\n",
    "plt.show()\n",
    "f.savefig(f'{save_folder}outputs.png', dpi=600, bbox_inches='tight')"
   ]
  },
  {
   "cell_type": "code",
   "execution_count": null,
   "metadata": {},
   "outputs": [],
   "source": [
    "''' summary performance across models '''\n",
    "f, ax = fig3_plots.plot_supp_1(data_folder, model_IDs)\n",
    "ax.set_title('2D pos\\n2 maps', fontsize=title_size, pad=5)\n",
    "plt.show()"
   ]
  },
  {
   "cell_type": "code",
   "execution_count": null,
   "metadata": {},
   "outputs": [],
   "source": [
    "''' Figure 3B: example tuning '''\n",
    "f, axes = fig3_plots.plot_b(X, map_targ, pos_targ)\n",
    "plt.show()\n",
    "f.savefig(f'{save_folder}ex_tuning.png', dpi=600, bbox_inches='tight')"
   ]
  },
  {
   "cell_type": "code",
   "execution_count": null,
   "metadata": {},
   "outputs": [],
   "source": [
    "''' Figure 3C: aligned toroidal manifolds'''\n",
    "f, axes = fig3_plots.plot_c(X, pos_targ, map_targ, \n",
    "                            num_points=4000,\n",
    "                            color_x=True)\n",
    "plt.show()\n",
    "f.savefig(f'{save_folder}manifolds_xpos.png', dpi=600, bbox_inches='tight')\n",
    "\n",
    "f, axes = fig3_plots.plot_c(X, pos_targ, map_targ, \n",
    "                            num_points=4000,\n",
    "                            color_x=False)\n",
    "plt.show()\n",
    "f.savefig(f'{save_folder}manifolds_ypos.png', dpi=600, bbox_inches='tight')"
   ]
  },
  {
   "cell_type": "code",
   "execution_count": null,
   "metadata": {},
   "outputs": [],
   "source": [
    "''' Figure 3D: summary of dimensionality '''\n",
    "f, axes = fig3_plots.plot_d(data_folder, model_IDs,\n",
    "                            top_num=4, top_num_1=3)\n",
    "plt.show()\n",
    "f.savefig(f'{save_folder}PCs_all.png', dpi=600, bbox_inches='tight')"
   ]
  },
  {
   "cell_type": "code",
   "execution_count": null,
   "metadata": {},
   "outputs": [],
   "source": [
    "''' Figure 3E: summary of torus alignment '''\n",
    "f, ax = fig3_plots.plot_e(data_folder, model_IDs)\n",
    "f.savefig(f'{save_folder}alignment.png', dpi=600, bbox_inches='tight')\n",
    "plt.show()"
   ]
  },
  {
   "cell_type": "code",
   "execution_count": null,
   "metadata": {},
   "outputs": [],
   "source": [
    "''' Figure 3F: slices showing aligned rings \n",
    "subsample holding x or y constant to get a slice in each direction and plot the aligned rings\n",
    "'''\n",
    "x_pos = pos_targ[:, 0]\n",
    "y_pos = pos_targ[:, 1]\n",
    "\n",
    "# slice from a fixed Y position\n",
    "y_idx = (np.round(pos_targ[:, 1], 2) == 0)\n",
    "f, ax = fig3_plots.plot_f(X[y_idx], pos_targ[y_idx])\n",
    "plt.show()\n",
    "f.savefig(f'{save_folder}slices_xpos.png', dpi=600, bbox_inches='tight')\n",
    "\n",
    "# slice from a fixed X position\n",
    "x_idx = (np.round(pos_targ[:, 0], 2) == 0)\n",
    "f, ax = fig3_plots.plot_f(X[x_idx], pos_targ[x_idx])\n",
    "plt.show()\n",
    "f.savefig(f'{save_folder}slices_ypos.png', dpi=600, bbox_inches='tight')"
   ]
  },
  {
   "cell_type": "code",
   "execution_count": null,
   "metadata": {},
   "outputs": [],
   "source": [
    "''' Figure 3g: alignment to remapping dim and position subspace '''\n",
    "f, ax = fig3_plots.plot_g(data_folder, model_IDs)\n",
    "plt.show()\n",
    "f.savefig(f'{save_folder}dim_angles.png', dpi=600, bbox_inches='tight')"
   ]
  }
 ],
 "metadata": {
  "kernelspec": {
   "display_name": "Python 3",
   "language": "python",
   "name": "python3"
  },
  "language_info": {
   "codemirror_mode": {
    "name": "ipython",
    "version": 3
   },
   "file_extension": ".py",
   "mimetype": "text/x-python",
   "name": "python",
   "nbconvert_exporter": "python",
   "pygments_lexer": "ipython3",
   "version": "3.6.5"
  }
 },
 "nbformat": 4,
 "nbformat_minor": 2
}
