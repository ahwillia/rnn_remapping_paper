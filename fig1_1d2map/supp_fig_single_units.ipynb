{
 "cells": [
  {
   "cell_type": "code",
   "execution_count": 1,
   "metadata": {},
   "outputs": [],
   "source": [
    "import os\n",
    "import sys\n",
    "sys.path.append(\"../data/neural_data/\")\n",
    "sys.path.append(\"../utils/\")\n",
    "from pathlib import Path\n",
    "\n",
    "import numpy as np\n",
    "import itertools\n",
    "import matplotlib.pyplot as plt\n",
    "\n",
    "import model_utils\n",
    "import basic_analysis as basic\n",
    "import analysis_rnn as rnn\n",
    "import analysis_neuro as spk\n",
    "import supp_fig0_plots as supp_plots"
   ]
  },
  {
   "cell_type": "code",
   "execution_count": 2,
   "metadata": {},
   "outputs": [
    {
     "name": "stdout",
     "output_type": "stream",
     "text": [
      "save folder exists\n"
     ]
    }
   ],
   "source": [
    "# file paths\n",
    "data_folder = f\"../data/saved_models/1d_2map/\"\n",
    "save_folder = f\"../figures/fig1_plots/\"\n",
    "\n",
    "if os.path.isdir(save_folder):\n",
    "    print('save folder exists')\n",
    "else:\n",
    "    os.mkdir(save_folder)"
   ]
  },
  {
   "cell_type": "code",
   "execution_count": 3,
   "metadata": {},
   "outputs": [],
   "source": [
    "# get the model IDs for all saved models\n",
    "model_IDs = os.listdir(data_folder)"
   ]
  },
  {
   "cell_type": "code",
   "execution_count": 4,
   "metadata": {},
   "outputs": [
    {
     "name": "stderr",
     "output_type": "stream",
     "text": [
      "C:\\Users\\ilow1\\Documents\\Python Scripts\\rnn_remapping_paper\\fig1_1d2map\\analysis_rnn.py:448: RuntimeWarning: invalid value encountered in true_divide\n",
      "  normalized_FR_1 = avg_FR_1[:, i]/n1\n",
      "C:\\Users\\ilow1\\Documents\\Python Scripts\\rnn_remapping_paper\\fig1_1d2map\\analysis_rnn.py:449: RuntimeWarning: invalid value encountered in true_divide\n",
      "  normalized_FR_2 = avg_FR_2[:, i]/n2\n"
     ]
    },
    {
     "name": "stdout",
     "output_type": "stream",
     "text": [
      "N models = 15, N total units = 3718\n",
      "median change in firing rate = 1.9-fold\n",
      "95th percentile change in firing rate = 3.0-fold\n",
      "median spatial dissimilarity = 0.025\n",
      "95th percentile dissimilarity = 0.21\n"
     ]
    },
    {
     "data": {
      "image/png": "[encoded data removed]",
      "text/plain": [
       "<Figure size 216x216 with 3 Axes>"
      ]
     },
     "metadata": {},
     "output_type": "display_data"
    }
   ],
   "source": [
    "''' Supplemental Figure 1A: change in firing rate vs. spatial dissimilarity across maps (RNN models) '''\n",
    "f, gs = supp_plots.plot_a(data_folder, model_IDs)\n",
    "plt.show()\n",
    "f.savefig(f'{save_folder}dfr_dissim_models.png', dpi=600, bbox_inches='tight')"
   ]
  },
  {
   "cell_type": "code",
   "execution_count": 5,
   "metadata": {},
   "outputs": [
    {
     "name": "stdout",
     "output_type": "stream",
     "text": [
      "model 10_100 firing rate: min = 0.0, max = 2.21\n",
      "model 11_101 firing rate: min = 0.0, max = 2.09\n",
      "model 12_102 firing rate: min = 0.0, max = 1.99\n",
      "model 13_103 firing rate: min = 0.0, max = 2.23\n",
      "model 14_104 firing rate: min = 0.0, max = 1.92\n",
      "model 15_105 firing rate: min = 0.0, max = 2.13\n",
      "model 16_106 firing rate: min = 0.0, max = 2.11\n",
      "model 17_107 firing rate: min = 0.0, max = 2.09\n",
      "model 18_108 firing rate: min = 0.0, max = 2.0\n",
      "model 19_109 firing rate: min = 0.0, max = 2.18\n",
      "model 20_110 firing rate: min = 0.0, max = 1.99\n",
      "model 21_111 firing rate: min = 0.0, max = 2.03\n",
      "model 22_112 firing rate: min = 0.0, max = 2.22\n",
      "model 23_113 firing rate: min = 0.0, max = 2.32\n",
      "model 24_114 firing rate: min = 0.0, max = 2.04\n"
     ]
    }
   ],
   "source": [
    "''' sanity check firing rates '''\n",
    "for i, m_id in enumerate(model_IDs):\n",
    "    # get the rnn data\n",
    "    inputs, outputs, targets = model_utils.sample_rnn_data(data_folder, m_id)\n",
    "    X, map_targ, pos_targ = model_utils.format_rnn_data(outputs[\"hidden_states\"],\\\n",
    "                                            targets[\"map_targets\"],\\\n",
    "                                            targets[\"pos_targets\"])\n",
    "    \n",
    "    # check the min and max firing rates\n",
    "    print(f'model {m_id} firing rate: min = {np.min(X)}, max = {np.max(X):.3}')"
   ]
  },
  {
   "cell_type": "code",
   "execution_count": null,
   "metadata": {},
   "outputs": [],
   "source": []
  }
 ],
 "metadata": {
  "kernelspec": {
   "display_name": "Python 3",
   "language": "python",
   "name": "python3"
  },
  "language_info": {
   "codemirror_mode": {
    "name": "ipython",
    "version": 3
   },
   "file_extension": ".py",
   "mimetype": "text/x-python",
   "name": "python",
   "nbconvert_exporter": "python",
   "pygments_lexer": "ipython3",
   "version": "3.6.5"
  }
 },
 "nbformat": 4,
 "nbformat_minor": 2
}
