{
 "cells": [
  {
   "cell_type": "code",
   "execution_count": 1,
   "metadata": {},
   "outputs": [],
   "source": [
    "import sys\n",
    "sys.path.append(\"../data/neural_data/\")\n",
    "from pathlib import Path\n",
    "\n",
    "import numpy as np\n",
    "import matplotlib.pyplot as plt\n",
    "\n",
    "import analysis_neuro as spk\n",
    "import plots"
   ]
  },
  {
   "cell_type": "code",
   "execution_count": 2,
   "metadata": {},
   "outputs": [],
   "source": [
    "%load_ext autoreload\n",
    "%autoreload analysis_neuro\n",
    "%autoreload plots"
   ]
  },
  {
   "cell_type": "code",
   "execution_count": 3,
   "metadata": {},
   "outputs": [],
   "source": [
    "# file paths\n",
    "data_folder = f\"../data/neural_data/\"\n",
    "save_folder = f\"../figures/fig1_plots/\""
   ]
  },
  {
   "cell_type": "code",
   "execution_count": 4,
   "metadata": {},
   "outputs": [
    {
     "name": "stdout",
     "output_type": "stream",
     "text": [
      "loaded data for Toronto_1112_1\n"
     ]
    }
   ],
   "source": [
    "''' load the data '''\n",
    "m = 'Toronto'\n",
    "s = '1112_1'\n",
    "d = {}\n",
    "\n",
    "# FR by 5cm position bins by trial for each cell\n",
    "d['Y'] = np.load(f'{data_folder}{m}_{s}_MEC_FRtensor.npy')\n",
    "\n",
    "# spike count by observation for each cell\n",
    "d['B'] = np.load(f'{data_folder}{m}_{s}_MEC_spikes.npy')\n",
    "\n",
    "# behavioral variables by observation - position, speed, trial, time\n",
    "d['A'] = np.load(f'{data_folder}{m}_{s}_behavior.npy'.format(data_folder, m, s))\n",
    "\n",
    "# ID numbers for all good cells\n",
    "d['cells'] = np.load(f'{data_folder}{m}_{s}_MEC_cellIDs.npy')\n",
    "\n",
    "# keep only cells in MEC\n",
    "filt_file = f'{data_folder}{m}_{s}_MEC_idx.npy'\n",
    "cell_idx = np.load(filt_file)\n",
    "d['cells'] = d['cells'][cell_idx]\n",
    "d['Y'] = d['Y'][:, :, cell_idx]\n",
    "d['B'] = d['B'][:, cell_idx]\n",
    "\n",
    "n_cells = d['cells'].shape[0]\n",
    "print(f'loaded data for {m}_{s}')"
   ]
  },
  {
   "cell_type": "code",
   "execution_count": 5,
   "metadata": {},
   "outputs": [],
   "source": [
    "''' k-means to divide by map '''\n",
    "n_maps = 2\n",
    "\n",
    "# get trial idx for 2 most common maps\n",
    "Y = d['Y'].copy()\n",
    "W, H = spk.get_maps(Y, N=n_maps, M=2)\n",
    "d['kmeans'] = {}\n",
    "d['kmeans']['W'] = W\n",
    "d['kmeans']['H'] = H\n",
    "\n",
    "# get observation idx for each map\n",
    "trials = d['A'][:, 2].copy()\n",
    "map_idx = spk.get_map_idx(W, trials)\n",
    "d['idx'] = map_idx"
   ]
  },
  {
   "cell_type": "code",
   "execution_count": 6,
   "metadata": {},
   "outputs": [],
   "source": [
    "# compute firing rates for each map\n",
    "A = d['A']\n",
    "B = d['B']\n",
    "\n",
    "dt = 0.02 \n",
    "map0_idx = d['idx'][0, :]\n",
    "map1_idx = d['idx'][1, :]\n",
    "\n",
    "FR_0, binned_pos, FR_0_sem = spk.tuning_curve(A[map0_idx, 0],\n",
    "                                              B[map0_idx, :],\n",
    "                                              dt, b=2, SEM=True)\n",
    "FR_1, binned_pos, FR_1_sem = spk.tuning_curve(A[map1_idx, 0],\n",
    "                                              B[map1_idx, :],\n",
    "                                              dt, b=2, SEM=True)"
   ]
  },
  {
   "cell_type": "code",
   "execution_count": 7,
   "metadata": {},
   "outputs": [],
   "source": [
    "# get the trial-trial network similarity\n",
    "Y = d['Y'].copy()\n",
    "d['sim'] = spk.spatial_similarity(Y)\n",
    "\n",
    "# compute the distance to k-means cluster\n",
    "H = d['kmeans']['H']\n",
    "d['dist'] = spk.clu_distance_population(Y, H, 0)"
   ]
  },
  {
   "cell_type": "code",
   "execution_count": 8,
   "metadata": {},
   "outputs": [],
   "source": [
    "''' save remap index for plotting '''\n",
    "W = d['kmeans']['W']\n",
    "trials = np.arange(0, W.shape[0]-1)\n",
    "\n",
    "# define remaps\n",
    "remap_idx = np.asarray([])\n",
    "for w in range(W.shape[1]):\n",
    "    remaps = np.where(np.abs(np.diff(W[:, w])))[0]\n",
    "    remap_idx = np.append(remap_idx, remaps)\n",
    "remap_idx = np.unique(remap_idx)\n",
    "remap_idx = remap_idx.astype(int)\n",
    "d['remap_idx'] = remap_idx"
   ]
  },
  {
   "cell_type": "code",
   "execution_count": 9,
   "metadata": {},
   "outputs": [
    {
     "ename": "NameError",
     "evalue": "name 'axis_label' is not defined",
     "output_type": "error",
     "traceback": [
      "\u001b[1;31m---------------------------------------------------------------------------\u001b[0m",
      "\u001b[1;31mNameError\u001b[0m                                 Traceback (most recent call last)",
      "\u001b[1;32m<ipython-input-9-765c855fbb71>\u001b[0m in \u001b[0;36m<module>\u001b[1;34m()\u001b[0m\n\u001b[0;32m      3\u001b[0m                          \u001b[0mFR_0\u001b[0m\u001b[1;33m=\u001b[0m\u001b[0mFR_0\u001b[0m\u001b[1;33m,\u001b[0m \u001b[0mFR_1\u001b[0m\u001b[1;33m=\u001b[0m\u001b[0mFR_1\u001b[0m\u001b[1;33m,\u001b[0m\u001b[1;33m\u001b[0m\u001b[0m\n\u001b[0;32m      4\u001b[0m                          \u001b[0mFR_0_sem\u001b[0m\u001b[1;33m=\u001b[0m\u001b[0mFR_0_sem\u001b[0m\u001b[1;33m,\u001b[0m \u001b[0mFR_1_sem\u001b[0m\u001b[1;33m=\u001b[0m\u001b[0mFR_1_sem\u001b[0m\u001b[1;33m,\u001b[0m\u001b[1;33m\u001b[0m\u001b[0m\n\u001b[1;32m----> 5\u001b[1;33m                          binned_pos=binned_pos)\n\u001b[0m\u001b[0;32m      6\u001b[0m \u001b[1;33m\u001b[0m\u001b[0m\n\u001b[0;32m      7\u001b[0m f.savefig(f'{save_folder}{m}_{s}_examples.png',\n",
      "\u001b[1;32mC:\\Users\\ilow1\\Documents\\Python Scripts\\rnn_remapping_paper\\fig1\\plots.py\u001b[0m in \u001b[0;36mplot_fig1c\u001b[1;34m(d, cell_ID, FR_0, FR_1, FR_0_sem, FR_1_sem, binned_pos)\u001b[0m\n\u001b[0;32m     59\u001b[0m     \u001b[0max2\u001b[0m\u001b[1;33m.\u001b[0m\u001b[0mset_ylim\u001b[0m\u001b[1;33m(\u001b[0m\u001b[0mylim_ax\u001b[0m\u001b[1;33m[\u001b[0m\u001b[1;33m:\u001b[0m\u001b[1;33m:\u001b[0m\u001b[1;33m-\u001b[0m\u001b[1;36m1\u001b[0m\u001b[1;33m]\u001b[0m\u001b[1;33m)\u001b[0m\u001b[1;33m\u001b[0m\u001b[0m\n\u001b[0;32m     60\u001b[0m     \u001b[0max2\u001b[0m\u001b[1;33m.\u001b[0m\u001b[0mset_yticks\u001b[0m\u001b[1;33m(\u001b[0m\u001b[1;33m[\u001b[0m\u001b[1;36m0\u001b[0m\u001b[1;33m,\u001b[0m \u001b[1;36m200\u001b[0m\u001b[1;33m,\u001b[0m \u001b[1;36m400\u001b[0m\u001b[1;33m]\u001b[0m\u001b[1;33m)\u001b[0m\u001b[1;33m\u001b[0m\u001b[0m\n\u001b[1;32m---> 61\u001b[1;33m     \u001b[0max2\u001b[0m\u001b[1;33m.\u001b[0m\u001b[0mset_ylabel\u001b[0m\u001b[1;33m(\u001b[0m\u001b[1;34m'trial'\u001b[0m\u001b[1;33m,\u001b[0m \u001b[0mfontsize\u001b[0m\u001b[1;33m=\u001b[0m\u001b[0maxis_label\u001b[0m\u001b[1;33m,\u001b[0m \u001b[0mlabelpad\u001b[0m\u001b[1;33m=\u001b[0m\u001b[1;36m1\u001b[0m\u001b[1;33m)\u001b[0m\u001b[1;33m\u001b[0m\u001b[0m\n\u001b[0m\u001b[0;32m     62\u001b[0m     ax2.tick_params(labelbottom=False, which='major',\\\n\u001b[0;32m     63\u001b[0m                     labelsize=tick_label, pad=0.5)\n",
      "\u001b[1;31mNameError\u001b[0m: name 'axis_label' is not defined"
     ]
    },
    {
     "data": {
      "image/png": "[encoded data removed]",
      "text/plain": [
       "<Figure size 115.2x72 with 1 Axes>"
      ]
     },
     "metadata": {},
     "output_type": "display_data"
    }
   ],
   "source": [
    "''' fig. 1c: remapping examples for a single cell and the whole network '''\n",
    "f, gs = plots.plot_fig1c(d=d, cell_ID=433,\n",
    "                         FR_0=FR_0, FR_1=FR_1,\n",
    "                         FR_0_sem=FR_0_sem, FR_1_sem=FR_1_sem,\n",
    "                         binned_pos=binned_pos)\n",
    "\n",
    "f.savefig(f'{save_folder}{m}_{s}_examples.png',\n",
    "          dpi=600, bbox_inches='tight')\n",
    "plt.show()"
   ]
  },
  {
   "cell_type": "code",
   "execution_count": null,
   "metadata": {},
   "outputs": [],
   "source": []
  }
 ],
 "metadata": {
  "kernelspec": {
   "display_name": "Python 3",
   "language": "python",
   "name": "python3"
  },
  "language_info": {
   "codemirror_mode": {
    "name": "ipython",
    "version": 3
   },
   "file_extension": ".py",
   "mimetype": "text/x-python",
   "name": "python",
   "nbconvert_exporter": "python",
   "pygments_lexer": "ipython3",
   "version": "3.6.5"
  }
 },
 "nbformat": 4,
 "nbformat_minor": 2
}
