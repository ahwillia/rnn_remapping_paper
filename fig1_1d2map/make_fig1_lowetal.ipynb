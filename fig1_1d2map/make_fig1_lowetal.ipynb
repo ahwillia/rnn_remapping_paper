{
 "cells": [
  {
   "cell_type": "code",
   "execution_count": 1,
   "metadata": {},
   "outputs": [],
   "source": [
    "import sys\n",
    "sys.path.append(\"../data/neural_data/\")\n",
    "from pathlib import Path\n",
    "\n",
    "import numpy as np\n",
    "import matplotlib.pyplot as plt\n",
    "\n",
    "import analysis_neuro as spk\n",
    "import fig1_plots"
   ]
  },
  {
   "cell_type": "code",
   "execution_count": 2,
   "metadata": {},
   "outputs": [],
   "source": [
    "%load_ext autoreload\n",
    "%autoreload analysis_neuro\n",
    "%autoreload fig1_plots"
   ]
  },
  {
   "cell_type": "code",
   "execution_count": 3,
   "metadata": {},
   "outputs": [],
   "source": [
    "# file paths\n",
    "data_folder = f\"../data/neural_data/2_map/\"\n",
    "save_folder = f\"../figures/fig1_plots/\""
   ]
  },
  {
   "cell_type": "code",
   "execution_count": 4,
   "metadata": {},
   "outputs": [
    {
     "name": "stdout",
     "output_type": "stream",
     "text": [
      "loaded data for Toronto_1112_1\n"
     ]
    }
   ],
   "source": [
    "''' load the data - single neuron and similarity '''\n",
    "m = 'Toronto'\n",
    "s = '1112_1'\n",
    "d = {}\n",
    "\n",
    "# FR by 5cm position bins by trial for each cell\n",
    "d['Y'] = np.load(f'{data_folder}{m}_{s}\\{m}_{s}_MEC_FRtensor.npy')\n",
    "\n",
    "# spike count by observation for each cell\n",
    "d['B'] = np.load(f'{data_folder}{m}_{s}\\{m}_{s}_MEC_spikes.npy')\n",
    "\n",
    "# behavioral variables by observation - position, speed, trial, time\n",
    "d['A'] = np.load(f'{data_folder}{m}_{s}\\{m}_{s}_behavior.npy')\n",
    "\n",
    "# ID numbers for all good cells\n",
    "d['cells'] = np.load(f'{data_folder}{m}_{s}\\{m}_{s}_MEC_cellIDs.npy')\n",
    "\n",
    "# keep only cells in MEC\n",
    "filt_file = f'{data_folder}{m}_{s}\\{m}_{s}_MEC_idx.npy'\n",
    "cell_idx = np.load(filt_file)\n",
    "d['cells'] = d['cells'][cell_idx]\n",
    "d['Y'] = d['Y'][:, :, cell_idx]\n",
    "d['B'] = d['B'][:, cell_idx]\n",
    "\n",
    "n_cells = d['cells'].shape[0]\n",
    "print(f'loaded data for {m}_{s}')"
   ]
  },
  {
   "cell_type": "code",
   "execution_count": 5,
   "metadata": {},
   "outputs": [],
   "source": [
    "''' k-means to divide by map '''\n",
    "n_maps = 2\n",
    "\n",
    "# get trial idx for the 2 maps\n",
    "Y = d['Y'].copy()\n",
    "W, _ = spk.get_maps(Y, N=n_maps)\n",
    "d['kmeans'] = {}\n",
    "d['kmeans']['W'] = W\n",
    "\n",
    "# get observation idx for each map\n",
    "trials = d['A'][:, 2].copy()\n",
    "map_idx = spk.get_map_idx(W, trials)\n",
    "d['idx'] = map_idx"
   ]
  },
  {
   "cell_type": "code",
   "execution_count": 6,
   "metadata": {},
   "outputs": [],
   "source": [
    "# compute firing rates for each map\n",
    "A = d['A']\n",
    "B = d['B']\n",
    "\n",
    "dt = 0.02 \n",
    "map0_idx = d['idx'][0, :]\n",
    "map1_idx = d['idx'][1, :]\n",
    "\n",
    "FR_0, binned_pos, FR_0_sem = spk.tuning_curve(A[map0_idx, 0],\n",
    "                                              B[map0_idx, :],\n",
    "                                              dt, b=2, SEM=True)\n",
    "FR_1, binned_pos, FR_1_sem = spk.tuning_curve(A[map1_idx, 0],\n",
    "                                              B[map1_idx, :],\n",
    "                                              dt, b=2, SEM=True)"
   ]
  },
  {
   "cell_type": "code",
   "execution_count": 7,
   "metadata": {},
   "outputs": [],
   "source": [
    "# get the trial-trial network similarity\n",
    "Y = d['Y'].copy()\n",
    "d['sim'] = spk.spatial_similarity(Y)"
   ]
  },
  {
   "cell_type": "code",
   "execution_count": 8,
   "metadata": {},
   "outputs": [],
   "source": [
    "''' save remap index for plotting '''\n",
    "W = d['kmeans']['W']\n",
    "trials = np.arange(0, W.shape[0]-1)\n",
    "\n",
    "# define remaps\n",
    "remap_idx = np.asarray([])\n",
    "for w in range(W.shape[1]):\n",
    "    remaps = np.where(np.abs(np.diff(W[:, w])))[0]\n",
    "    remap_idx = np.append(remap_idx, remaps)\n",
    "remap_idx = np.unique(remap_idx)\n",
    "remap_idx = remap_idx.astype(int)\n",
    "d['remap_idx'] = remap_idx"
   ]
  },
  {
   "cell_type": "code",
   "execution_count": 9,
   "metadata": {},
   "outputs": [
    {
     "data": {
      "image/png": "[encoded data removed]",
      "text/plain": [
       "<Figure size 115.2x72 with 4 Axes>"
      ]
     },
     "metadata": {},
     "output_type": "display_data"
    }
   ],
   "source": [
    "''' fig. 1c: remapping examples for a single cell and the whole network '''\n",
    "f, gs = fig1_plots.plot_c(d=d, cell_ID=433,\n",
    "                         FR_0=FR_0, FR_1=FR_1,\n",
    "                         FR_0_sem=FR_0_sem, FR_1_sem=FR_1_sem,\n",
    "                         binned_pos=binned_pos)\n",
    "\n",
    "f.savefig(f'{save_folder}{m}_{s}_examples.png',\n",
    "          dpi=600, bbox_inches='tight')\n",
    "plt.show()"
   ]
  },
  {
   "cell_type": "code",
   "execution_count": 10,
   "metadata": {},
   "outputs": [
    {
     "name": "stdout",
     "output_type": "stream",
     "text": [
      "loaded data for Portland_1005_2\n"
     ]
    }
   ],
   "source": [
    "''' load the data - manifold examples '''\n",
    "m = 'Portland'\n",
    "s = '1005_2'\n",
    "d = {}\n",
    "\n",
    "# FR by 5cm position bins by trial for each cell\n",
    "d['Y'] = np.load(f'{data_folder}{m}_{s}_MEC_FRtensor.npy')\n",
    "\n",
    "# spike count by observation for each cell\n",
    "d['B'] = np.load(f'{data_folder}{m}_{s}_MEC_spikes.npy')\n",
    "\n",
    "# behavioral variables by observation - position, speed, trial, time\n",
    "d['A'] = np.load(f'{data_folder}{m}_{s}_behavior.npy'.format(data_folder, m, s))\n",
    "\n",
    "# ID numbers for all good cells\n",
    "d['cells'] = np.load(f'{data_folder}{m}_{s}_MEC_cellIDs.npy')\n",
    "\n",
    "n_cells = d['cells'].shape[0]\n",
    "print(f'loaded data for {m}_{s}')"
   ]
  },
  {
   "cell_type": "code",
   "execution_count": 11,
   "metadata": {},
   "outputs": [],
   "source": [
    "# get the centers for each position bin\n",
    "pos = d['A'][:, 0]\n",
    "bin_size = 5\n",
    "edges = np.arange(0, np.max(pos) + bin_size, bin_size)\n",
    "binned_pos = (edges[:-1] + edges[1:])/2"
   ]
  },
  {
   "cell_type": "code",
   "execution_count": 12,
   "metadata": {},
   "outputs": [
    {
     "data": {
      "image/png": "[encoded data removed]",
      "text/plain": [
       "<Figure size 216x151.2 with 1 Axes>"
      ]
     },
     "metadata": {},
     "output_type": "display_data"
    }
   ],
   "source": [
    "''' fig. 1d: example aligned manifolds '''\n",
    "f, gs = fig1_plots.plot_d(d['Y'].copy(), binned_pos)\n",
    "\n",
    "f.savefig(f'{save_folder}{m}_{s}_manifolds.png',\n",
    "          dpi=600, bbox_inches='tight')\n",
    "plt.show()"
   ]
  },
  {
   "cell_type": "code",
   "execution_count": null,
   "metadata": {},
   "outputs": [],
   "source": []
  }
 ],
 "metadata": {
  "kernelspec": {
   "display_name": "Python 3",
   "language": "python",
   "name": "python3"
  },
  "language_info": {
   "codemirror_mode": {
    "name": "ipython",
    "version": 3
   },
   "file_extension": ".py",
   "mimetype": "text/x-python",
   "name": "python",
   "nbconvert_exporter": "python",
   "pygments_lexer": "ipython3",
   "version": "3.6.5"
  }
 },
 "nbformat": 4,
 "nbformat_minor": 2
}
