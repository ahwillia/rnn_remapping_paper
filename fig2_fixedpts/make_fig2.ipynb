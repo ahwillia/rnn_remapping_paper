{
 "cells": [
  {
   "cell_type": "code",
   "execution_count": 1,
   "metadata": {},
   "outputs": [],
   "source": [
    "import sys\n",
    "sys.path.append(\"../data/saved_models/\")\n",
    "sys.path.append(\"../model_scripts/\")\n",
    "sys.path.append(\"../utils/\")\n",
    "import os\n",
    "import json\n",
    "\n",
    "import numpy as np\n",
    "import torch\n",
    "\n",
    "import matplotlib.pyplot as plt\n",
    "import fig2_plots\n",
    "\n",
    "import fig2_analysis as rnn\n",
    "import basic_analysis as basic\n",
    "import model_utils\n",
    "from task import generate_batch"
   ]
  },
  {
   "cell_type": "code",
   "execution_count": 2,
   "metadata": {},
   "outputs": [
    {
     "name": "stdout",
     "output_type": "stream",
     "text": [
      "save folder exists\n"
     ]
    }
   ],
   "source": [
    "# file paths\n",
    "data_folder = f\"../data/saved_models/1d_2map/\"\n",
    "save_folder = f\"../figures/fig2_plots/\"\n",
    "\n",
    "if os.path.isdir(save_folder):\n",
    "    print('save folder exists')\n",
    "else:\n",
    "    os.mkdir(save_folder)"
   ]
  },
  {
   "cell_type": "code",
   "execution_count": 3,
   "metadata": {},
   "outputs": [],
   "source": [
    "# get the model IDs for all saved models\n",
    "model_IDs = os.listdir(data_folder)\n",
    "\n",
    "# select example model\n",
    "ex_id = 0\n",
    "model_ID = model_IDs[ex_id]"
   ]
  },
  {
   "cell_type": "code",
   "execution_count": 4,
   "metadata": {},
   "outputs": [],
   "source": [
    "# get sample rnn data\n",
    "model, task_params, _ = model_utils.load_model_params(data_folder, model_ID)\n",
    "inputs, outputs, targets = model_utils.sample_rnn_data(data_folder, model_ID)\n",
    "X, map_targ, pos_targ = model_utils.format_rnn_data(outputs[\"hidden_states\"],\\\n",
    "                                                    targets[\"map_targets\"],\\\n",
    "                                                    targets[\"pos_targets\"])"
   ]
  },
  {
   "cell_type": "code",
   "execution_count": 5,
   "metadata": {},
   "outputs": [
    {
     "name": "stdout",
     "output_type": "stream",
     "text": [
      "filtered out 12 slow points with velocity > threshold\n"
     ]
    }
   ],
   "source": [
    "# load the fixed points for the example model\n",
    "vel_thresh = 0.005\n",
    "fixed_pts, fixed_pts_torch, pos_pred_fp = rnn.load_fixed_pts(data_folder, model_ID,\n",
    "                                                             vel_thresh=vel_thresh)"
   ]
  },
  {
   "cell_type": "code",
   "execution_count": 6,
   "metadata": {},
   "outputs": [
    {
     "name": "stderr",
     "output_type": "stream",
     "text": [
      "100%|████████████████████████████████████████████████████| 988/988 [01:30<00:00,  8.26it/s]\n"
     ]
    }
   ],
   "source": [
    "# local linearization & eigendecomposition\n",
    "Js, max_eigs, eig_vals, eig_vecs, sort_idx = rnn.characterize_fps(model,\n",
    "                                                                  task_params,\n",
    "                                                                  fixed_pts_torch)"
   ]
  },
  {
   "cell_type": "code",
   "execution_count": 7,
   "metadata": {},
   "outputs": [],
   "source": [
    "pos_pred_fp = pos_pred_fp[sort_idx]\n",
    "fixed_pts = fixed_pts[sort_idx]"
   ]
  },
  {
   "cell_type": "code",
   "execution_count": 8,
   "metadata": {},
   "outputs": [],
   "source": [
    "# define saddle points as > 1 + tol and quasi-stable as 1 +/- tol\n",
    "tol = 0.1\n",
    "\n",
    "# saddle points\n",
    "saddle_idx = max_eigs > 1+tol\n",
    "n_saddle_pts = np.sum(saddle_idx)\n",
    "\n",
    "# quasi-stable points\n",
    "stable_idx = (max_eigs <= 1+tol) & (max_eigs >= 1-tol)\n",
    "n_stable_pts = np.sum(stable_idx)"
   ]
  },
  {
   "cell_type": "code",
   "execution_count": 9,
   "metadata": {},
   "outputs": [],
   "source": [
    "'''\n",
    "choose 6 example points that are on the three rings \n",
    "these will be used for Figure 3A, B, D, \n",
    "'''\n",
    "num_pts = fixed_pts.shape[0]\n",
    "\n",
    "# number of example points for each ring\n",
    "n_m1_ex = 2\n",
    "n_m2_ex = 1\n",
    "n_sd_ex = 3\n",
    "\n",
    "# project the fixed points onto the context tuning dimension\n",
    "X0 = X[map_targ==0]\n",
    "X1 = X[map_targ==1]\n",
    "fp_dist = rnn.dist_to_map(X0, X1, fixed_pts)\n",
    "\n",
    "# index for fixed points near each map or in between\n",
    "map_1_idx = np.round(fp_dist + 1, 1) == 0\n",
    "map_2_idx = np.round(fp_dist - 1, 1) == 0\n",
    "middle_idx = np.round(fp_dist, 1) == 0\n",
    "\n",
    "# randomly choose points on each ring\n",
    "ex_pts_m1 = np.random.choice(np.arange(num_pts)[stable_idx & map_1_idx],\n",
    "                             size=n_m1_ex)\n",
    "ex_pts_m2 = np.random.choice(np.arange(num_pts)[stable_idx & map_2_idx],\n",
    "                             size=n_m2_ex)\n",
    "ex_pts_saddle = np.random.choice(np.arange(num_pts)[saddle_idx & middle_idx],\n",
    "                                 size=n_sd_ex)\n",
    "\n",
    "ex_idx = np.concatenate([ex_pts_m1, ex_pts_m2, ex_pts_saddle]).astype(int)\n",
    "not_ex_idx = np.setdiff1d(np.arange(num_pts), ex_idx)"
   ]
  },
  {
   "cell_type": "code",
   "execution_count": 21,
   "metadata": {},
   "outputs": [
    {
     "data": {
      "image/png": "[encoded data removed]",
      "text/plain": [
       "<Figure size 180x108 with 1 Axes>"
      ]
     },
     "metadata": {},
     "output_type": "display_data"
    },
    {
     "data": {
      "image/png": "[encoded data removed]",
      "text/plain": [
       "<Figure size 180x108 with 1 Axes>"
      ]
     },
     "metadata": {},
     "output_type": "display_data"
    }
   ],
   "source": [
    "''' Figure 3A: fixed point rings with examples highlighted '''\n",
    "f, ax = fig2_plots.plot_a(X, fixed_pts, pos_targ,\n",
    "                          ex_idx, not_ex_idx)\n",
    "ax.set_title('')\n",
    "f.savefig(f'{save_folder}fixed_pts.png', dpi=1000, bbox_inches='tight')\n",
    "plt.show()\n",
    "\n",
    "f, ax = fig2_plots.plot_a(X, fixed_pts, pos_targ,\n",
    "                         ex_idx, not_ex_idx, plot_all_pts=False)\n",
    "ax.set_title('')\n",
    "f.savefig(f'{save_folder}fixed_pts_ex_only.png', \n",
    "          transparent=True, dpi=1000, bbox_inches='tight')\n",
    "plt.show()"
   ]
  },
  {
   "cell_type": "code",
   "execution_count": 22,
   "metadata": {},
   "outputs": [
    {
     "data": {
      "image/png": "[encoded data removed]",
      "text/plain": [
       "<Figure size 72x72 with 1 Axes>"
      ]
     },
     "metadata": {},
     "output_type": "display_data"
    }
   ],
   "source": [
    "''' Figure 3B: largest eigenvalues for each fixed point '''\n",
    "f, ax = fig2_plots.plot_b(max_eigs, ex_idx, tol)\n",
    "plt.show()\n",
    "f.savefig(f'{save_folder}max_eigenvals.png', dpi=1000, bbox_inches='tight')"
   ]
  },
  {
   "cell_type": "code",
   "execution_count": 23,
   "metadata": {},
   "outputs": [
    {
     "data": {
      "image/png": "[encoded data removed]",
      "text/plain": [
       "<Figure size 108x64.8 with 1 Axes>"
      ]
     },
     "metadata": {},
     "output_type": "display_data"
    }
   ],
   "source": [
    "''' Figure 3C: projection of the fixed points onto the remapping dimension \n",
    "UPDATE TO SUMMARIZE ACROSS MODELS\n",
    "'''\n",
    "f, ax = fig2_plots.plot_c(fp_dist, stable_idx, saddle_idx)\n",
    "plt.show()\n",
    "f.savefig(f'{save_folder}fixed_pt_proj.png', dpi=1000, bbox_inches='tight')"
   ]
  },
  {
   "cell_type": "code",
   "execution_count": 24,
   "metadata": {},
   "outputs": [
    {
     "data": {
      "image/png": "[encoded data removed]",
      "text/plain": [
       "<Figure size 360x57.6 with 6 Axes>"
      ]
     },
     "metadata": {},
     "output_type": "display_data"
    }
   ],
   "source": [
    "''' Figure 3D: eigenvalues for each example fixed point '''\n",
    "f, gs = fig2_plots.plot_d(Js, ex_idx) \n",
    "plt.show()\n",
    "f.savefig(f'{save_folder}ex_eigenvals.png', dpi=1000, bbox_inches='tight')"
   ]
  },
  {
   "cell_type": "code",
   "execution_count": 10,
   "metadata": {},
   "outputs": [
    {
     "ename": "TypeError",
     "evalue": "plot_e() takes 2 positional arguments but 8 were given",
     "output_type": "error",
     "traceback": [
      "\u001b[1;31m---------------------------------------------------------------------------\u001b[0m",
      "\u001b[1;31mTypeError\u001b[0m                                 Traceback (most recent call last)",
      "\u001b[1;32m<ipython-input-10-93fc2d6d543e>\u001b[0m in \u001b[0;36m<module>\u001b[1;34m()\u001b[0m\n\u001b[0;32m      2\u001b[0m f, gs = fig2_plots.plot_e(stable_idx, saddle_idx,\n\u001b[0;32m      3\u001b[0m                           \u001b[0meig_vals\u001b[0m\u001b[1;33m,\u001b[0m \u001b[0meig_vecs\u001b[0m\u001b[1;33m,\u001b[0m \u001b[0mfp_dist\u001b[0m\u001b[1;33m,\u001b[0m\u001b[1;33m\u001b[0m\u001b[0m\n\u001b[1;32m----> 4\u001b[1;33m                           X, map_targ, pos_targ) \n\u001b[0m\u001b[0;32m      5\u001b[0m \u001b[0mplt\u001b[0m\u001b[1;33m.\u001b[0m\u001b[0mshow\u001b[0m\u001b[1;33m(\u001b[0m\u001b[1;33m)\u001b[0m\u001b[1;33m\u001b[0m\u001b[0m\n\u001b[0;32m      6\u001b[0m \u001b[0mf\u001b[0m\u001b[1;33m.\u001b[0m\u001b[0msavefig\u001b[0m\u001b[1;33m(\u001b[0m\u001b[1;34mf'{save_folder}eigenvec_angles.png'\u001b[0m\u001b[1;33m,\u001b[0m \u001b[0mdpi\u001b[0m\u001b[1;33m=\u001b[0m\u001b[1;36m1000\u001b[0m\u001b[1;33m,\u001b[0m \u001b[0mbbox_inches\u001b[0m\u001b[1;33m=\u001b[0m\u001b[1;34m'tight'\u001b[0m\u001b[1;33m)\u001b[0m\u001b[1;33m\u001b[0m\u001b[0m\n",
      "\u001b[1;31mTypeError\u001b[0m: plot_e() takes 2 positional arguments but 8 were given"
     ]
    }
   ],
   "source": [
    "''' Figure 3E: alignment of the eigenvectors to each dimension '''\n",
    "f, gs = fig2_plots.plot_e(stable_idx, saddle_idx,\n",
    "                          eig_vals, eig_vecs, fp_dist,\n",
    "                          X, map_targ, pos_targ) \n",
    "plt.show()\n",
    "f.savefig(f'{save_folder}eigenvec_angles.png', dpi=1000, bbox_inches='tight')"
   ]
  },
  {
   "cell_type": "code",
   "execution_count": null,
   "metadata": {},
   "outputs": [],
   "source": [
    "# find imaginary top eigenvals\n",
    "im_idx = rnn.get_im_idx(eig_vals, eig_vecs)\n",
    "\n",
    "# get the indices for the example points for panels F & G\n",
    "ex_idx, m1_idx, mid_idx, m2_idx = rnn.eig_vec_examples(stable_idx,\n",
    "                                                       saddle_idx,\n",
    "                                                       im_idx,\n",
    "                                                       fp_dist)"
   ]
  },
  {
   "cell_type": "code",
   "execution_count": null,
   "metadata": {},
   "outputs": [],
   "source": [
    "''' Figure 3F: alignment of the eigenvectors to each dimension '''\n",
    "f, ax = fig2_plots.plot_f(X, fixed_pts,\n",
    "                          eig_vals, eig_vecs,\n",
    "                          ex_idx, saddle_idx) \n",
    "plt.show()\n",
    "f.savefig(f'{save_folder}eigenvec_examples.png', dpi=1000, bbox_inches='tight')\n",
    "\n",
    "f, ax = fig2_plots.plot_f(X, fixed_pts,\n",
    "                          eig_vals, eig_vecs,\n",
    "                          ex_idx, saddle_idx, \n",
    "                          plot_all_pts=False) \n",
    "plt.show()\n",
    "f.savefig(f'{save_folder}eigenvec_examples_only.png', \n",
    "          transparent=True, dpi=1000, bbox_inches='tight')"
   ]
  }
 ],
 "metadata": {
  "kernelspec": {
   "display_name": "Python 3",
   "language": "python",
   "name": "python3"
  },
  "language_info": {
   "codemirror_mode": {
    "name": "ipython",
    "version": 3
   },
   "file_extension": ".py",
   "mimetype": "text/x-python",
   "name": "python",
   "nbconvert_exporter": "python",
   "pygments_lexer": "ipython3",
   "version": "3.6.5"
  }
 },
 "nbformat": 4,
 "nbformat_minor": 2
}
