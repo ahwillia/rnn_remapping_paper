{
 "cells": [
  {
   "cell_type": "code",
   "execution_count": 1,
   "metadata": {},
   "outputs": [],
   "source": [
    "import sys\n",
    "sys.path.append(\"../data/saved_models/\")\n",
    "sys.path.append(\"../model_scripts/\")\n",
    "sys.path.append(\"../utils/\")\n",
    "import os\n",
    "import json\n",
    "\n",
    "import numpy as np\n",
    "import torch\n",
    "\n",
    "import matplotlib.pyplot as plt\n",
    "import fig2_plots\n",
    "\n",
    "import fig2_analysis as rnn\n",
    "import basic_analysis as basic\n",
    "import model_utils\n",
    "from task import generate_batch"
   ]
  },
  {
   "cell_type": "code",
   "execution_count": 2,
   "metadata": {},
   "outputs": [
    {
     "name": "stdout",
     "output_type": "stream",
     "text": [
      "save folder exists\n"
     ]
    }
   ],
   "source": [
    "# file paths\n",
    "data_folder = f\"../data/saved_models/1d_2map/\"\n",
    "save_folder = f\"../figures/fig2_plots/\"\n",
    "\n",
    "if os.path.isdir(save_folder):\n",
    "    print('save folder exists')\n",
    "else:\n",
    "    os.mkdir(save_folder)"
   ]
  },
  {
   "cell_type": "code",
   "execution_count": 3,
   "metadata": {},
   "outputs": [],
   "source": [
    "# get the model IDs for all saved models\n",
    "model_IDs = os.listdir(data_folder)\n",
    "\n",
    "# select example model\n",
    "ex_id = 0\n",
    "model_ID = model_IDs[ex_id]"
   ]
  },
  {
   "cell_type": "code",
   "execution_count": 4,
   "metadata": {},
   "outputs": [],
   "source": [
    "# get sample rnn data\n",
    "model, task_params, _ = model_utils.load_model_params(data_folder, model_ID)\n",
    "inputs, outputs, targets = model_utils.sample_rnn_data(data_folder, model_ID)\n",
    "X, map_targ, pos_targ = model_utils.format_rnn_data(outputs[\"hidden_states\"],\\\n",
    "                                                    targets[\"map_targets\"],\\\n",
    "                                                    targets[\"pos_targets\"])"
   ]
  },
  {
   "cell_type": "code",
   "execution_count": null,
   "metadata": {},
   "outputs": [],
   "source": [
    "# load the fixed points for the example model\n",
    "vel_thresh = 0.005\n",
    "fixed_pts, fixed_pts_torch, pos_pred_fp = rnn.load_fixed_pts(data_folder, model_ID,\n",
    "                                                             vel_thresh=vel_thresh)"
   ]
  },
  {
   "cell_type": "code",
   "execution_count": null,
   "metadata": {},
   "outputs": [],
   "source": [
    "# local linearization & eigendecomposition\n",
    "Js, max_eigs, eig_vals, eig_vecs = rnn.characterize_fps(model, \n",
    "                                                        task_params,\n",
    "                                                        fixed_pts_torch)"
   ]
  },
  {
   "cell_type": "code",
   "execution_count": null,
   "metadata": {},
   "outputs": [],
   "source": [
    "# sort the fixed points from largest to smallest max eig\n",
    "sort_idx = np.argsort(max_eigs).astype(int)\n",
    "sort_idx = sort_idx[::-1].astype(int)\n",
    "\n",
    "fixed_pts = fixed_pts[sort_idx]\n",
    "pos_pred_fp = pos_pred_fp[sort_idx]\n",
    "Js = Js[sort_idx]\n",
    "eig_vals = eig_vals[sort_idx]\n",
    "eig_vecs = eig_vecs[sort_idx]\n",
    "max_eigs = max_eigs[sort_idx]"
   ]
  },
  {
   "cell_type": "code",
   "execution_count": null,
   "metadata": {},
   "outputs": [],
   "source": [
    "# define saddle points as > 1 + tol and quasi-stable as 1 +/- tol\n",
    "tol = 0.1\n",
    "\n",
    "# saddle points\n",
    "saddle_idx = max_eigs > 1+tol\n",
    "n_saddle_pts = np.sum(saddle_idx)\n",
    "\n",
    "# quasi-stable points\n",
    "stable_idx = (max_eigs <= 1+tol) & (max_eigs >= 1-tol)\n",
    "n_stable_pts = np.sum(stable_idx)"
   ]
  },
  {
   "cell_type": "code",
   "execution_count": null,
   "metadata": {},
   "outputs": [],
   "source": [
    "'''\n",
    "choose 6 example points that are on the three rings \n",
    "these will be used for Figure 3A, B, D, \n",
    "'''\n",
    "# number of example points for each ring\n",
    "n_m1_ex = 2\n",
    "n_m2_ex = 1\n",
    "n_sd_ex = 3\n",
    "\n",
    "# project the fixed points onto the context tuning dimension\n",
    "X0 = X[map_targ==0]\n",
    "X1 = X[map_targ==1]\n",
    "fp_dist = dist_to_map(X0, X1, fixed_pts)\n",
    "\n",
    "# index for fixed points on each map or in between\n",
    "map_1_idx = np.round(fp_dist + 1, 1) == 0\n",
    "map_2_idx = np.round(fp_dist - 1, 1) == 0\n",
    "middle_idx = np.round(fp_dist, 1) == 0\n",
    "\n",
    "# randomly choose points on each ring\n",
    "ex_pts_m1 = np.random.choice(np.arange(num_fixed_pts)[stable_idx & map_1_idx],\n",
    "                             size=n_m1_ex)\n",
    "ex_pts_m2 = np.random.choice(np.arange(num_fixed_pts)[stable_idx & map_2_idx],\n",
    "                             size=n_m2_ex)\n",
    "ex_pts_saddle = np.random.choice(np.arange(num_fixed_pts)[saddle_idx & middle_idx],\n",
    "                                 size=n_sd_ex)\n",
    "\n",
    "ex_idx = np.concatenate([ex_pts_m1, ex_pts_m2, ex_pts_saddle]).astype(int)\n",
    "not_ex_idx = np.setdiff1d(np.arange(num_fixed_pts), ex_idx)"
   ]
  },
  {
   "cell_type": "code",
   "execution_count": null,
   "metadata": {},
   "outputs": [],
   "source": [
    "''' Figure 3A: fixed point rings with examples highlighted '''\n",
    "f, ax = fig2_plots.plot_a(X, fixed_pts_np, pos_targets,\n",
    "                             ex_idx, not_ex_idx)\n",
    "ax.set_title('')\n",
    "# f.savefig(f'{save_folder}fixed_pts.png', dpi=1000, bbox_inches='tight')\n",
    "plt.show()\n",
    "\n",
    "f, ax = fig_plots.plot_a(X, fixed_pts_np, pos_targets,\n",
    "                             ex_idx, not_ex_idx, plot_all_pts=False)\n",
    "ax.set_title('')\n",
    "# f.savefig(f'{save_folder}fixed_pts_ex_only.png', \n",
    "#           transparent=True, dpi=1000, bbox_inches='tight')\n",
    "plt.show()"
   ]
  },
  {
   "cell_type": "code",
   "execution_count": null,
   "metadata": {},
   "outputs": [],
   "source": [
    "''' Figure 3B: largest eigenvalues for each fixed point '''\n",
    "f, ax = fig2_plots.plot_b(max_eigs, ex_idx, tol)\n",
    "plt.show()\n",
    "# f.savefig(f'{save_folder}max_eigenvals.png', dpi=1000, bbox_inches='tight')"
   ]
  },
  {
   "cell_type": "code",
   "execution_count": null,
   "metadata": {},
   "outputs": [],
   "source": [
    "''' Figure 3C: projection of the fixed points onto the remapping dimension \n",
    "UPDATE TO SUMMARIZE ACROSS MODELS\n",
    "'''\n",
    "f, ax = fig2_plots.plot_c(fp_dist, stable_idx, saddle_idx)\n",
    "plt.show()\n",
    "# f.savefig(f'{save_folder}fixed_pt_proj.png', dpi=1000, bbox_inches='tight')"
   ]
  },
  {
   "cell_type": "code",
   "execution_count": null,
   "metadata": {},
   "outputs": [],
   "source": [
    "''' Figure 3D: eigenvalues for each example fixed point '''\n",
    "f, gs = fig2_plots.plot_d(Js, ex_idx) \n",
    "plt.show()\n",
    "# f.savefig(f'{save_folder}ex_eigenvals.png', dpi=1000, bbox_inches='tight')"
   ]
  }
 ],
 "metadata": {
  "kernelspec": {
   "display_name": "Python 3",
   "language": "python",
   "name": "python3"
  },
  "language_info": {
   "codemirror_mode": {
    "name": "ipython",
    "version": 3
   },
   "file_extension": ".py",
   "mimetype": "text/x-python",
   "name": "python",
   "nbconvert_exporter": "python",
   "pygments_lexer": "ipython3",
   "version": "3.6.5"
  }
 },
 "nbformat": 4,
 "nbformat_minor": 2
}
