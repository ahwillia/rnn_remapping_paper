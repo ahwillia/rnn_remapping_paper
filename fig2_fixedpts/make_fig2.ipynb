{
 "cells": [
  {
   "cell_type": "code",
   "execution_count": 1,
   "metadata": {},
   "outputs": [],
   "source": [
    "import sys\n",
    "sys.path.append(\"../data/saved_models/\")\n",
    "sys.path.append(\"../model_scripts/\")\n",
    "sys.path.append(\"../utils/\")\n",
    "import os\n",
    "import json\n",
    "\n",
    "import numpy as np\n",
    "import torch\n",
    "\n",
    "import matplotlib.pyplot as plt\n",
    "import fig2_plots\n",
    "\n",
    "import fig2_analysis as rnn\n",
    "import basic_analysis as basic\n",
    "import model_utils\n",
    "from task import generate_batch"
   ]
  },
  {
   "cell_type": "code",
   "execution_count": 3,
   "metadata": {},
   "outputs": [
    {
     "name": "stdout",
     "output_type": "stream",
     "text": [
      "save folder exists\n"
     ]
    }
   ],
   "source": [
    "# file paths\n",
    "data_folder = f\"../data/saved_models/1d_2map/\"\n",
    "save_folder = f\"../figures/fig2_plots/\"\n",
    "\n",
    "if os.path.isdir(save_folder):\n",
    "    print('save folder exists')\n",
    "else:\n",
    "    os.mkdir(save_folder)"
   ]
  },
  {
   "cell_type": "code",
   "execution_count": 4,
   "metadata": {},
   "outputs": [],
   "source": [
    "# get the model IDs for all saved models\n",
    "model_IDs = os.listdir(data_folder)\n",
    "\n",
    "# select example model\n",
    "ex_id = 0\n",
    "model_ID = model_IDs[ex_id]"
   ]
  },
  {
   "cell_type": "code",
   "execution_count": 5,
   "metadata": {},
   "outputs": [],
   "source": [
    "# get sample rnn data\n",
    "inputs, outputs, targets = model_utils.sample_rnn_data(data_folder, model_ID)\n",
    "X, map_targ, pos_targ = model_utils.format_rnn_data(outputs[\"hidden_states\"],\\\n",
    "                                                    targets[\"map_targets\"],\\\n",
    "                                                    targets[\"pos_targets\"])"
   ]
  },
  {
   "cell_type": "code",
   "execution_count": null,
   "metadata": {},
   "outputs": [],
   "source": []
  }
 ],
 "metadata": {
  "kernelspec": {
   "display_name": "Python 3",
   "language": "python",
   "name": "python3"
  },
  "language_info": {
   "codemirror_mode": {
    "name": "ipython",
    "version": 3
   },
   "file_extension": ".py",
   "mimetype": "text/x-python",
   "name": "python",
   "nbconvert_exporter": "python",
   "pygments_lexer": "ipython3",
   "version": "3.6.5"
  }
 },
 "nbformat": 4,
 "nbformat_minor": 2
}
