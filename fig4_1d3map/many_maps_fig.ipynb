{
 "cells": [
  {
   "cell_type": "code",
   "execution_count": 1,
   "metadata": {},
   "outputs": [],
   "source": [
    "import os\n",
    "import json\n",
    "import sys\n",
    "sys.path.append(\"../data/saved_models/\")\n",
    "sys.path.append(\"../model_scripts/\")\n",
    "sys.path.append(\"../utils/\")\n",
    "\n",
    "import numpy as np\n",
    "import fig4_analysis as rnn\n",
    "import model_utils\n",
    "\n",
    "import matplotlib.pyplot as plt\n",
    "import fig4_plots"
   ]
  },
  {
   "cell_type": "code",
   "execution_count": 7,
   "metadata": {},
   "outputs": [
    {
     "name": "stdout",
     "output_type": "stream",
     "text": [
      "save folder exists\n"
     ]
    }
   ],
   "source": [
    "# file paths\n",
    "data_folder = f\"../data/saved_models/many_maps/\"\n",
    "save_folder = f\"../figures/many_maps_plots/\"\n",
    "\n",
    "if os.path.isdir(save_folder):\n",
    "    print('save folder exists')\n",
    "else:\n",
    "    os.mkdir(save_folder)"
   ]
  },
  {
   "cell_type": "code",
   "execution_count": null,
   "metadata": {},
   "outputs": [],
   "source": [
    "# font sizes\n",
    "title_size = 10\n",
    "axis_label = 9\n",
    "tick_label = 7\n",
    "\n",
    "# colors\n",
    "pos_col = 'xkcd:cobalt blue'\n",
    "c1 = 'xkcd:scarlet'"
   ]
  },
  {
   "cell_type": "code",
   "execution_count": 10,
   "metadata": {},
   "outputs": [],
   "source": [
    "'''\n",
    "Generalization to multiple maps \n",
    "\n",
    "We find that the 3 maps occupy a 2D remapping subspace in which the remapping dims\n",
    "form a 2D equilateral triangle. Remapping dims between each pair are separated by 60 deg.\n",
    "\n",
    "For any M maps, this generalizes to a regular (M-1)-dim simplex.\n",
    "The angle between remapping dims should be: phi = arccos(1/(M-1)) for any M maps.\n",
    "As M becomes large, this angle approaches 90.\n",
    "'''\n",
    "\n",
    "model_IDs = os.listdir(data_folder)"
   ]
  },
  {
   "cell_type": "code",
   "execution_count": null,
   "metadata": {},
   "outputs": [],
   "source": [
    "''' example trial for M = 6 maps '''"
   ]
  },
  {
   "cell_type": "code",
   "execution_count": 9,
   "metadata": {},
   "outputs": [
    {
     "data": {
      "image/png": "[encoded data removed]",
      "text/plain": [
       "<Figure size 144x144 with 2 Axes>"
      ]
     },
     "metadata": {},
     "output_type": "display_data"
    }
   ],
   "source": [
    "''' look at the avg final loss for different num maps '''\n",
    "# data params\n",
    "n_models = len(model_IDs)\n",
    "n_maps = np.asarray([])\n",
    "pos_losses = np.asarray([])\n",
    "map_losses = np.asarray([])\n",
    "for m_id in model_IDs:\n",
    "    # get the final losses\n",
    "    pos_loss = np.load(f\"{data_folder}/{m_id}/pos_losses.npy\")\n",
    "    pos_losses = np.append(pos_losses, pos_loss[-1])\n",
    "    map_loss = np.load(f\"{data_folder}/{m_id}/map_losses.npy\")\n",
    "    map_losses = np.append(map_losses, map_loss[-1])\n",
    "    \n",
    "    # get the number of maps\n",
    "    n_maps = np.append(n_maps, m_id.split('_')[-1])\n",
    "n_maps = n_maps.astype(int)\n",
    "\n",
    "# figure params\n",
    "f, ax = plt.subplots(2, 1, figsize=(2, 2))\n",
    "DOT_SIZE = 10\n",
    "\n",
    "# for jittering points\n",
    "JIT = np.random.randn(n_models) * 0.03\n",
    "\n",
    "# pos loss across different num maps\n",
    "ax[0].scatter(n_maps+JIT, \n",
    "               pos_losses,\n",
    "               c=pos_col,\n",
    "               s=DOT_SIZE, lw=0,\n",
    "               alpha=0.5\n",
    "              )\n",
    "\n",
    "# map loss across different num maps\n",
    "ax[1].scatter(n_maps+JIT, \n",
    "               map_losses,\n",
    "               c=c1,\n",
    "               s=DOT_SIZE, lw=0,\n",
    "               alpha=0.5\n",
    "              )\n",
    "\n",
    "for i in range(2):\n",
    "    # ticks and lims\n",
    "    ax[i].spines['right'].set_visible(False)\n",
    "    ax[i].spines['top'].set_visible(False)\n",
    "    ax[i].spines['left'].set_bounds(0, 0.04)\n",
    "    ax[i].spines['bottom'].set_bounds(np.min(n_maps), np.max(n_maps))\n",
    "    ax[i].set_xlim([np.min(n_maps)-0.3, np.max(n_maps)+1])\n",
    "    ax[i].set_xticks([np.min(n_maps), \n",
    "                      (np.max(n_maps) + np.min(n_maps))//2, \n",
    "                      np.max(n_maps)])\n",
    "    ax[i].set_ylim([-0.003, 0.04])\n",
    "    ax[i].set_yticks([0, 0.02, 0.04])\n",
    "    ax[i].tick_params(which='major', labelsize=tick_label, pad=0.5)\n",
    "    \n",
    "# labels\n",
    "ax[0].set_ylabel('pos. loss', fontsize=axis_label, labelpad=1)\n",
    "ax[1].set_ylabel('map loss', fontsize=axis_label, labelpad=1)\n",
    "ax[0].tick_params(labelbottom=False)\n",
    "ax[1].set_xlabel('num. maps', fontsize=axis_label, labelpad=1)\n",
    "\n",
    "plt.show()\n",
    "f.savefig(f'{save_folder}m_maps_loss.png', dpi=600, bbox_inches='tight')"
   ]
  },
  {
   "cell_type": "code",
   "execution_count": null,
   "metadata": {},
   "outputs": [],
   "source": [
    "''' theoretical vs. actual angle between remapping dimensions '''\n",
    "# fig params\n",
    "f, ax = plt.subplots(1, 1, figsize=(2, 1))\n",
    "DOT_SIZE = 1\n",
    "LW = 0.5\n",
    "\n",
    "# data params\n",
    "M = np.arange(2, 101)\n",
    "ax.plot(M, np.rad2deg(np.arccos(1/(M-1))), 'ko-', \n",
    "         ms=DOT_SIZE, lw=LW)\n",
    "\n",
    "# ticks and lims\n",
    "ax.spines['right'].set_visible(False)\n",
    "ax.spines['top'].set_visible(False)\n",
    "ax.spines['left'].set_bounds(0, 90)\n",
    "ax.spines['bottom'].set_bounds(M[0], M[-1])\n",
    "ax.set_xlim([0, 101])\n",
    "ax.set_xticks([M[0], M[-1]//2, M[-1]])\n",
    "ax.set_ylim([-1, 91])\n",
    "ax.set_yticks(np.arange(0, 100, 30))\n",
    "\n",
    "# labels\n",
    "ax.set_ylabel('cos$^{-1}$(1/M-1)', fontsize=axis_label, labelpad=1)\n",
    "ax.set_xlabel('num. maps', fontsize=axis_label, labelpad=1)\n",
    "ax.tick_params(which='major', labelsize=tick_label, pad=0.5)\n",
    "\n",
    "plt.show()\n",
    "f.savefig(f'{save_folder}m_maps_angles.png', dpi=600, bbox_inches='tight')"
   ]
  },
  {
   "cell_type": "code",
   "execution_count": null,
   "metadata": {},
   "outputs": [],
   "source": [
    "''' pairwise misalignment scores - box + whiskers for each M maps '''"
   ]
  },
  {
   "cell_type": "code",
   "execution_count": null,
   "metadata": {},
   "outputs": [],
   "source": [
    "''' example alignment in 3D PC space '''"
   ]
  }
 ],
 "metadata": {
  "kernelspec": {
   "display_name": "Python 3",
   "language": "python",
   "name": "python3"
  },
  "language_info": {
   "codemirror_mode": {
    "name": "ipython",
    "version": 3
   },
   "file_extension": ".py",
   "mimetype": "text/x-python",
   "name": "python",
   "nbconvert_exporter": "python",
   "pygments_lexer": "ipython3",
   "version": "3.6.5"
  }
 },
 "nbformat": 4,
 "nbformat_minor": 2
}
