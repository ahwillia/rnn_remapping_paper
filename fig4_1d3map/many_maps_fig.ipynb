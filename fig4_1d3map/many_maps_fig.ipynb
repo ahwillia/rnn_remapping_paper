{
 "cells": [
  {
   "cell_type": "code",
   "execution_count": 1,
   "metadata": {},
   "outputs": [],
   "source": [
    "'''\n",
    "Generalization to multiple maps \n",
    "\n",
    "We find that the 3 maps occupy a 2D remapping subspace in which the remapping dims\n",
    "form a 2D equilateral triangle. Remapping dims between each pair are separated by 60 deg.\n",
    "\n",
    "We expect this geometry to hold in higher dimensions.\n",
    "'''\n",
    "import os\n",
    "import json\n",
    "import sys\n",
    "sys.path.append(\"../data/saved_models/\")\n",
    "sys.path.append(\"../model_scripts/\")\n",
    "sys.path.append(\"../utils/\")\n",
    "\n",
    "import numpy as np\n",
    "import fig4_analysis as rnn\n",
    "import model_utils\n",
    "\n",
    "import matplotlib.pyplot as plt\n",
    "import supp_fig2_plots"
   ]
  },
  {
   "cell_type": "code",
   "execution_count": 2,
   "metadata": {},
   "outputs": [
    {
     "name": "stdout",
     "output_type": "stream",
     "text": [
      "save folder exists\n"
     ]
    }
   ],
   "source": [
    "# file paths\n",
    "data_folder = f\"../data/saved_models/many_maps/\"\n",
    "save_folder = f\"../figures/many_maps_plots/\"\n",
    "\n",
    "if os.path.isdir(save_folder):\n",
    "    print('save folder exists')\n",
    "else:\n",
    "    os.mkdir(save_folder)"
   ]
  },
  {
   "cell_type": "code",
   "execution_count": 3,
   "metadata": {},
   "outputs": [],
   "source": [
    "''' get the list of model_IDs '''\n",
    "model_IDs = os.listdir(data_folder)"
   ]
  },
  {
   "cell_type": "code",
   "execution_count": null,
   "metadata": {},
   "outputs": [],
   "source": [
    "''' example trial for M = 5 maps '''"
   ]
  },
  {
   "cell_type": "code",
   "execution_count": 4,
   "metadata": {},
   "outputs": [],
   "source": [
    "''' number of maps for each model '''\n",
    "num_maps = np.asarray([])\n",
    "for m_id in model_IDs:\n",
    "    # get the number of maps\n",
    "    num_maps = np.append(num_maps, m_id.split('_')[-1])\n",
    "num_maps = num_maps.astype(int)"
   ]
  },
  {
   "cell_type": "code",
   "execution_count": 5,
   "metadata": {},
   "outputs": [
    {
     "data": {
      "image/png": "[encoded data removed]",
      "text/plain": [
       "<Figure size 144x144 with 2 Axes>"
      ]
     },
     "metadata": {},
     "output_type": "display_data"
    }
   ],
   "source": [
    "''' look at the avg final loss for different num maps '''\n",
    "f, ax = supp_fig2_plots.plot_c(data_folder, model_IDs, num_maps)\n",
    "\n",
    "plt.show()\n",
    "f.savefig(f'{save_folder}m_maps_loss.png', dpi=600, bbox_inches='tight')"
   ]
  },
  {
   "cell_type": "code",
   "execution_count": 8,
   "metadata": {},
   "outputs": [
    {
     "name": "stdout",
     "output_type": "stream",
     "text": [
      "angle between remapping dims (mean, sem) = 59 deg., 1.1e-07 deg.\n"
     ]
    },
    {
     "data": {
      "image/png": "[encoded data removed]",
      "text/plain": [
       "<Figure size 144x72 with 1 Axes>"
      ]
     },
     "metadata": {},
     "output_type": "display_data"
    }
   ],
   "source": [
    "''' angle between remapping dimensions for 3+ maps '''\n",
    "f, ax = supp_fig2_plots.plot_d(data_folder, model_IDs, num_maps)\n",
    "\n",
    "plt.show()\n",
    "f.savefig(f'{save_folder}m_maps_angles.png', dpi=600, bbox_inches='tight')"
   ]
  },
  {
   "cell_type": "code",
   "execution_count": 7,
   "metadata": {},
   "outputs": [
    {
     "name": "stdout",
     "output_type": "stream",
     "text": [
      "mean misalignment = 0.33\n",
      "sem misalignment = 0.0023\n"
     ]
    },
    {
     "data": {
      "image/png": "[encoded data removed]",
      "text/plain": [
       "<Figure size 144x72 with 1 Axes>"
      ]
     },
     "metadata": {},
     "output_type": "display_data"
    }
   ],
   "source": [
    "''' angle between remapping dimensions for 3+ maps '''\n",
    "f, ax = supp_fig2_plots.plot_e(data_folder, model_IDs, num_maps)\n",
    "\n",
    "plt.show()\n",
    "f.savefig(f'{save_folder}m_maps_misalignment.png', dpi=600, bbox_inches='tight')"
   ]
  },
  {
   "cell_type": "code",
   "execution_count": null,
   "metadata": {},
   "outputs": [],
   "source": []
  }
 ],
 "metadata": {
  "kernelspec": {
   "display_name": "Python 3",
   "language": "python",
   "name": "python3"
  },
  "language_info": {
   "codemirror_mode": {
    "name": "ipython",
    "version": 3
   },
   "file_extension": ".py",
   "mimetype": "text/x-python",
   "name": "python",
   "nbconvert_exporter": "python",
   "pygments_lexer": "ipython3",
   "version": "3.6.5"
  }
 },
 "nbformat": 4,
 "nbformat_minor": 2
}
